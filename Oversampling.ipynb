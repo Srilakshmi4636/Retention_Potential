{
  "cells": [
    {
      "cell_type": "markdown",
      "metadata": {
        "id": "IXJKGyLBtap2"
      },
      "source": [
        "# Import libraries"
      ]
    },
    {
      "cell_type": "code",
      "execution_count": null,
      "metadata": {
        "id": "qd9t4SSiveTW"
      },
      "outputs": [],
      "source": [
        "import pandas as pd\n",
        "import numpy as np\n",
        "import matplotlib.pyplot as plt\n",
        "from sklearn.preprocessing import MinMaxScaler\n",
        "from sklearn.model_selection import train_test_split\n",
        "from sklearn.tree import DecisionTreeClassifier\n",
        "from sklearn.metrics import accuracy_score\n",
        "from sklearn.metrics import classification_report\n",
        "from sklearn.metrics import confusion_matrix\n",
        "from sklearn.model_selection import GridSearchCV\n",
        "from sklearn.model_selection import RandomizedSearchCV\n",
        "from sklearn.svm import SVC\n",
        "from sklearn.ensemble import RandomForestClassifier\n",
        "from sklearn.naive_bayes import GaussianNB\n",
        "from sklearn.neighbors import KNeighborsClassifier\n",
        "from sklearn.ensemble import GradientBoostingClassifier\n",
        "import xgboost as xgb\n",
        "from collections import Counter\n",
        "from sklearn.datasets import make_classification\n",
        "from imblearn.over_sampling import RandomOverSampler\n",
        "from imblearn.over_sampling import SMOTE\n",
        "import keras\n",
        "import tensorflow as tf\n",
        "from keras.models import Sequential\n",
        "from keras.layers import Dense, Normalization,BatchNormalization\n",
        "from keras.utils import to_categorical\n",
        "from sklearn.model_selection import learning_curve, validation_curve\n",
        "from sklearn.linear_model import LogisticRegression\n",
        "from sklearn.multiclass import OneVsRestClassifier"
      ]
    },
    {
      "cell_type": "code",
      "execution_count": null,
      "metadata": {
        "colab": {
          "base_uri": "https://localhost:8080/"
        },
        "id": "rgDVq5OXMXuq",
        "outputId": "67e0c6a4-d1b3-46c6-8687-1c5b0687fa8a"
      },
      "outputs": [
        {
          "output_type": "stream",
          "name": "stdout",
          "text": [
            "Mounted at /content/drive\n"
          ]
        }
      ],
      "source": [
        "from google.colab import drive\n",
        "drive.mount('/content/drive')"
      ]
    },
    {
      "cell_type": "markdown",
      "metadata": {
        "id": "xTgEo1-E2Wuy"
      },
      "source": [
        "# Import the Dataset"
      ]
    },
    {
      "cell_type": "code",
      "execution_count": null,
      "metadata": {
        "colab": {
          "base_uri": "https://localhost:8080/",
          "height": 270
        },
        "id": "-gSea-vBuPHa",
        "outputId": "883cd46b-2a52-456a-d8d9-7bfda669f4c8"
      },
      "outputs": [
        {
          "output_type": "execute_result",
          "data": {
            "text/plain": [
              "   City  OnlineCommunication  AutomaticRefill  DoorstepDelivery  \\\n",
              "0   1.0                    0                0                 0   \n",
              "1   1.0                    1                1                 1   \n",
              "2   1.0                    0                0                 0   \n",
              "3   3.0                    0                0                 0   \n",
              "4   1.0                    1                1                 0   \n",
              "\n",
              "   PreferredDeliveryDay  DateOfRegistration_Year  DateOfRegistration_Month  \\\n",
              "0                   1.0                     2012                         9   \n",
              "1                   0.0                     2010                        12   \n",
              "2                   6.0                     2010                        10   \n",
              "3                   1.0                     2010                        11   \n",
              "4                   0.0                     2009                        12   \n",
              "\n",
              "   DateOfRegistration_Day  EmailType_CustomizedEmail  MailOpened_yes  \\\n",
              "0                      28                         29              30   \n",
              "1                      19                         95              89   \n",
              "2                       3                          0               1   \n",
              "3                      27                         30              28   \n",
              "4                       4                         64              19   \n",
              "\n",
              "   MailOpened_no  MailClicked_yes  TimeDifference  Orders_TimeDifference  \\\n",
              "0              0                1             300                      0   \n",
              "1              7               10            1096                   1024   \n",
              "2              0                0               0                    217   \n",
              "3              3                4             751                    791   \n",
              "4             46               10            1504                    848   \n",
              "\n",
              "   OrderQuantity_mean  Orders_count  RetentionPotential  \n",
              "0           15.000000             1                   0  \n",
              "1           83.946237           186                   1  \n",
              "2           34.076923            13                   2  \n",
              "3          106.857143             7                   1  \n",
              "4           69.117647            34                   1  "
            ],
            "text/html": [
              "\n",
              "  <div id=\"df-e00dee91-e595-47b6-9b4b-0425322b3a89\">\n",
              "    <div class=\"colab-df-container\">\n",
              "      <div>\n",
              "<style scoped>\n",
              "    .dataframe tbody tr th:only-of-type {\n",
              "        vertical-align: middle;\n",
              "    }\n",
              "\n",
              "    .dataframe tbody tr th {\n",
              "        vertical-align: top;\n",
              "    }\n",
              "\n",
              "    .dataframe thead th {\n",
              "        text-align: right;\n",
              "    }\n",
              "</style>\n",
              "<table border=\"1\" class=\"dataframe\">\n",
              "  <thead>\n",
              "    <tr style=\"text-align: right;\">\n",
              "      <th></th>\n",
              "      <th>City</th>\n",
              "      <th>OnlineCommunication</th>\n",
              "      <th>AutomaticRefill</th>\n",
              "      <th>DoorstepDelivery</th>\n",
              "      <th>PreferredDeliveryDay</th>\n",
              "      <th>DateOfRegistration_Year</th>\n",
              "      <th>DateOfRegistration_Month</th>\n",
              "      <th>DateOfRegistration_Day</th>\n",
              "      <th>EmailType_CustomizedEmail</th>\n",
              "      <th>MailOpened_yes</th>\n",
              "      <th>MailOpened_no</th>\n",
              "      <th>MailClicked_yes</th>\n",
              "      <th>TimeDifference</th>\n",
              "      <th>Orders_TimeDifference</th>\n",
              "      <th>OrderQuantity_mean</th>\n",
              "      <th>Orders_count</th>\n",
              "      <th>RetentionPotential</th>\n",
              "    </tr>\n",
              "  </thead>\n",
              "  <tbody>\n",
              "    <tr>\n",
              "      <th>0</th>\n",
              "      <td>1.0</td>\n",
              "      <td>0</td>\n",
              "      <td>0</td>\n",
              "      <td>0</td>\n",
              "      <td>1.0</td>\n",
              "      <td>2012</td>\n",
              "      <td>9</td>\n",
              "      <td>28</td>\n",
              "      <td>29</td>\n",
              "      <td>30</td>\n",
              "      <td>0</td>\n",
              "      <td>1</td>\n",
              "      <td>300</td>\n",
              "      <td>0</td>\n",
              "      <td>15.000000</td>\n",
              "      <td>1</td>\n",
              "      <td>0</td>\n",
              "    </tr>\n",
              "    <tr>\n",
              "      <th>1</th>\n",
              "      <td>1.0</td>\n",
              "      <td>1</td>\n",
              "      <td>1</td>\n",
              "      <td>1</td>\n",
              "      <td>0.0</td>\n",
              "      <td>2010</td>\n",
              "      <td>12</td>\n",
              "      <td>19</td>\n",
              "      <td>95</td>\n",
              "      <td>89</td>\n",
              "      <td>7</td>\n",
              "      <td>10</td>\n",
              "      <td>1096</td>\n",
              "      <td>1024</td>\n",
              "      <td>83.946237</td>\n",
              "      <td>186</td>\n",
              "      <td>1</td>\n",
              "    </tr>\n",
              "    <tr>\n",
              "      <th>2</th>\n",
              "      <td>1.0</td>\n",
              "      <td>0</td>\n",
              "      <td>0</td>\n",
              "      <td>0</td>\n",
              "      <td>6.0</td>\n",
              "      <td>2010</td>\n",
              "      <td>10</td>\n",
              "      <td>3</td>\n",
              "      <td>0</td>\n",
              "      <td>1</td>\n",
              "      <td>0</td>\n",
              "      <td>0</td>\n",
              "      <td>0</td>\n",
              "      <td>217</td>\n",
              "      <td>34.076923</td>\n",
              "      <td>13</td>\n",
              "      <td>2</td>\n",
              "    </tr>\n",
              "    <tr>\n",
              "      <th>3</th>\n",
              "      <td>3.0</td>\n",
              "      <td>0</td>\n",
              "      <td>0</td>\n",
              "      <td>0</td>\n",
              "      <td>1.0</td>\n",
              "      <td>2010</td>\n",
              "      <td>11</td>\n",
              "      <td>27</td>\n",
              "      <td>30</td>\n",
              "      <td>28</td>\n",
              "      <td>3</td>\n",
              "      <td>4</td>\n",
              "      <td>751</td>\n",
              "      <td>791</td>\n",
              "      <td>106.857143</td>\n",
              "      <td>7</td>\n",
              "      <td>1</td>\n",
              "    </tr>\n",
              "    <tr>\n",
              "      <th>4</th>\n",
              "      <td>1.0</td>\n",
              "      <td>1</td>\n",
              "      <td>1</td>\n",
              "      <td>0</td>\n",
              "      <td>0.0</td>\n",
              "      <td>2009</td>\n",
              "      <td>12</td>\n",
              "      <td>4</td>\n",
              "      <td>64</td>\n",
              "      <td>19</td>\n",
              "      <td>46</td>\n",
              "      <td>10</td>\n",
              "      <td>1504</td>\n",
              "      <td>848</td>\n",
              "      <td>69.117647</td>\n",
              "      <td>34</td>\n",
              "      <td>1</td>\n",
              "    </tr>\n",
              "  </tbody>\n",
              "</table>\n",
              "</div>\n",
              "      <button class=\"colab-df-convert\" onclick=\"convertToInteractive('df-e00dee91-e595-47b6-9b4b-0425322b3a89')\"\n",
              "              title=\"Convert this dataframe to an interactive table.\"\n",
              "              style=\"display:none;\">\n",
              "        \n",
              "  <svg xmlns=\"http://www.w3.org/2000/svg\" height=\"24px\"viewBox=\"0 0 24 24\"\n",
              "       width=\"24px\">\n",
              "    <path d=\"M0 0h24v24H0V0z\" fill=\"none\"/>\n",
              "    <path d=\"M18.56 5.44l.94 2.06.94-2.06 2.06-.94-2.06-.94-.94-2.06-.94 2.06-2.06.94zm-11 1L8.5 8.5l.94-2.06 2.06-.94-2.06-.94L8.5 2.5l-.94 2.06-2.06.94zm10 10l.94 2.06.94-2.06 2.06-.94-2.06-.94-.94-2.06-.94 2.06-2.06.94z\"/><path d=\"M17.41 7.96l-1.37-1.37c-.4-.4-.92-.59-1.43-.59-.52 0-1.04.2-1.43.59L10.3 9.45l-7.72 7.72c-.78.78-.78 2.05 0 2.83L4 21.41c.39.39.9.59 1.41.59.51 0 1.02-.2 1.41-.59l7.78-7.78 2.81-2.81c.8-.78.8-2.07 0-2.86zM5.41 20L4 18.59l7.72-7.72 1.47 1.35L5.41 20z\"/>\n",
              "  </svg>\n",
              "      </button>\n",
              "      \n",
              "  <style>\n",
              "    .colab-df-container {\n",
              "      display:flex;\n",
              "      flex-wrap:wrap;\n",
              "      gap: 12px;\n",
              "    }\n",
              "\n",
              "    .colab-df-convert {\n",
              "      background-color: #E8F0FE;\n",
              "      border: none;\n",
              "      border-radius: 50%;\n",
              "      cursor: pointer;\n",
              "      display: none;\n",
              "      fill: #1967D2;\n",
              "      height: 32px;\n",
              "      padding: 0 0 0 0;\n",
              "      width: 32px;\n",
              "    }\n",
              "\n",
              "    .colab-df-convert:hover {\n",
              "      background-color: #E2EBFA;\n",
              "      box-shadow: 0px 1px 2px rgba(60, 64, 67, 0.3), 0px 1px 3px 1px rgba(60, 64, 67, 0.15);\n",
              "      fill: #174EA6;\n",
              "    }\n",
              "\n",
              "    [theme=dark] .colab-df-convert {\n",
              "      background-color: #3B4455;\n",
              "      fill: #D2E3FC;\n",
              "    }\n",
              "\n",
              "    [theme=dark] .colab-df-convert:hover {\n",
              "      background-color: #434B5C;\n",
              "      box-shadow: 0px 1px 3px 1px rgba(0, 0, 0, 0.15);\n",
              "      filter: drop-shadow(0px 1px 2px rgba(0, 0, 0, 0.3));\n",
              "      fill: #FFFFFF;\n",
              "    }\n",
              "  </style>\n",
              "\n",
              "      <script>\n",
              "        const buttonEl =\n",
              "          document.querySelector('#df-e00dee91-e595-47b6-9b4b-0425322b3a89 button.colab-df-convert');\n",
              "        buttonEl.style.display =\n",
              "          google.colab.kernel.accessAllowed ? 'block' : 'none';\n",
              "\n",
              "        async function convertToInteractive(key) {\n",
              "          const element = document.querySelector('#df-e00dee91-e595-47b6-9b4b-0425322b3a89');\n",
              "          const dataTable =\n",
              "            await google.colab.kernel.invokeFunction('convertToInteractive',\n",
              "                                                     [key], {});\n",
              "          if (!dataTable) return;\n",
              "\n",
              "          const docLinkHtml = 'Like what you see? Visit the ' +\n",
              "            '<a target=\"_blank\" href=https://colab.research.google.com/notebooks/data_table.ipynb>data table notebook</a>'\n",
              "            + ' to learn more about interactive tables.';\n",
              "          element.innerHTML = '';\n",
              "          dataTable['output_type'] = 'display_data';\n",
              "          await google.colab.output.renderOutput(dataTable, element);\n",
              "          const docLink = document.createElement('div');\n",
              "          docLink.innerHTML = docLinkHtml;\n",
              "          element.appendChild(docLink);\n",
              "        }\n",
              "      </script>\n",
              "    </div>\n",
              "  </div>\n",
              "  "
            ]
          },
          "metadata": {},
          "execution_count": 3
        }
      ],
      "source": [
        "# Read the data\n",
        "\n",
        "merged_data = pd.read_csv('/content/drive/MyDrive/CAPSTONE/Train/Customer_segmentation1.csv')\n",
        "merged_data.head()"
      ]
    },
    {
      "cell_type": "code",
      "execution_count": null,
      "metadata": {
        "colab": {
          "base_uri": "https://localhost:8080/"
        },
        "id": "K7S_sWllyPco",
        "outputId": "e2faf7c5-8ec4-46d9-a802-daa06a82f890"
      },
      "outputs": [
        {
          "output_type": "execute_result",
          "data": {
            "text/plain": [
              "(23820, 17)"
            ]
          },
          "metadata": {},
          "execution_count": 4
        }
      ],
      "source": [
        "merged_data.shape"
      ]
    },
    {
      "cell_type": "markdown",
      "metadata": {
        "id": "dkPaXqATuyJv"
      },
      "source": [
        "# Split the data"
      ]
    },
    {
      "cell_type": "code",
      "execution_count": null,
      "metadata": {
        "id": "oFIGoJT6kjx-"
      },
      "outputs": [],
      "source": [
        "X = merged_data.drop(['RetentionPotential'], axis=1).values\n",
        "y = merged_data['RetentionPotential'].values"
      ]
    },
    {
      "cell_type": "code",
      "execution_count": null,
      "metadata": {
        "colab": {
          "base_uri": "https://localhost:8080/"
        },
        "id": "pYIlpJVZFbRn",
        "outputId": "f382a3d3-bb9f-44be-f618-9fbb3187c147"
      },
      "outputs": [
        {
          "output_type": "execute_result",
          "data": {
            "text/plain": [
              "(23820, 16)"
            ]
          },
          "metadata": {},
          "execution_count": 6
        }
      ],
      "source": [
        "X.shape"
      ]
    },
    {
      "cell_type": "code",
      "execution_count": null,
      "metadata": {
        "id": "oPnezPYCIggi"
      },
      "outputs": [],
      "source": [
        "X_train, X_test, y_train, y_test = train_test_split(X, y, test_size=0.2, random_state=42)"
      ]
    },
    {
      "cell_type": "markdown",
      "metadata": {
        "id": "YOM4H5m2pvO8"
      },
      "source": [
        "#Random over sampling"
      ]
    },
    {
      "cell_type": "code",
      "execution_count": null,
      "metadata": {
        "colab": {
          "base_uri": "https://localhost:8080/"
        },
        "id": "QAmo3Q3GnJBX",
        "outputId": "828c4965-8387-4fcf-a1d2-59d6fc9ca78d"
      },
      "outputs": [
        {
          "output_type": "stream",
          "name": "stdout",
          "text": [
            "Original class distribution: Counter({1: 15359, 0: 3002, 2: 695})\n",
            "1    15359\n",
            "0    15359\n",
            "2    15359\n",
            "dtype: int64\n"
          ]
        }
      ],
      "source": [
        "# Print class distribution\n",
        "print(\"Original class distribution:\", Counter(y_train))\n",
        "\n",
        "# Instantiate a RandomOverSampler object\n",
        "ros = RandomOverSampler(random_state=42)\n",
        "\n",
        "# Perform the oversampling\n",
        "X_train_resampled, y_train_resampled = ros.fit_resample(X_train, y_train)\n",
        "\n",
        "# Print the new class distribution\n",
        "print(pd.Series(y_train_resampled).value_counts())\n"
      ]
    },
    {
      "cell_type": "markdown",
      "metadata": {
        "id": "AL41-UXYrJhJ"
      },
      "source": [
        "## Decision Tree"
      ]
    },
    {
      "cell_type": "code",
      "execution_count": null,
      "metadata": {
        "id": "t8CKBKaGqsED"
      },
      "outputs": [],
      "source": [
        "# Build the decision tree model\n",
        "model1 = DecisionTreeClassifier(criterion='entropy', max_depth=10)\n",
        "model1.fit(X_train_resampled, y_train_resampled)\n",
        "\n",
        "# Evaluate the performance of the model\n",
        "y_train_pred1 = model1.predict(X_train_resampled)\n",
        "\n",
        "y_test_pred1 = model1.predict(X_test)\n"
      ]
    },
    {
      "cell_type": "code",
      "execution_count": null,
      "metadata": {
        "colab": {
          "base_uri": "https://localhost:8080/"
        },
        "id": "BFmCBfkBqsAE",
        "outputId": "208582d9-4066-4be5-887c-1af414ca318e"
      },
      "outputs": [
        {
          "output_type": "stream",
          "name": "stdout",
          "text": [
            "----------- Train classification Report -----------\n",
            "              precision    recall  f1-score   support\n",
            "\n",
            "           0       0.83      0.95      0.89     15359\n",
            "           1       0.94      0.78      0.85     15359\n",
            "           2       0.97      1.00      0.99     15359\n",
            "\n",
            "    accuracy                           0.91     46077\n",
            "   macro avg       0.91      0.91      0.91     46077\n",
            "weighted avg       0.91      0.91      0.91     46077\n",
            "\n",
            "----------- Test classification Report -----------\n",
            "              precision    recall  f1-score   support\n",
            "\n",
            "           0       0.46      0.91      0.61       754\n",
            "           1       0.97      0.76      0.85      3826\n",
            "           2       0.60      0.88      0.71       184\n",
            "\n",
            "    accuracy                           0.79      4764\n",
            "   macro avg       0.68      0.85      0.72      4764\n",
            "weighted avg       0.88      0.79      0.81      4764\n",
            "\n"
          ]
        }
      ],
      "source": [
        "print('----------- Train classification Report -----------')\n",
        "\n",
        "print(classification_report(y_train_resampled, y_train_pred1))\n",
        "\n",
        "print('----------- Test classification Report -----------')\n",
        "\n",
        "print(classification_report(y_test, y_test_pred1))"
      ]
    },
    {
      "cell_type": "code",
      "execution_count": null,
      "metadata": {
        "colab": {
          "base_uri": "https://localhost:8080/",
          "height": 449
        },
        "id": "FLxt8-y27Xam",
        "outputId": "b7746f1f-293b-4664-b286-a6afeb0d8dbc"
      },
      "outputs": [
        {
          "output_type": "display_data",
          "data": {
            "text/plain": [
              "<Figure size 640x480 with 1 Axes>"
            ],
            "image/png": "[encoded data removed]"
          },
          "metadata": {}
        }
      ],
      "source": [
        "# Use your actual training set data instead of defining a range of sizes\n",
        "train_sizes = [0.8, 0.7]\n",
        "\n",
        "# Compute learning curves with your actual data\n",
        "train_sizes, train_scores, test_scores = learning_curve(model1, X_train_resampled, y_train_resampled,\n",
        "                                                        train_sizes=train_sizes,\n",
        "                                                        cv=5)\n",
        "# Calculate the mean and standard deviation of the training and testing scores\n",
        "train_mean = np.mean(train_scores, axis=1)\n",
        "train_std = np.std(train_scores, axis=1)\n",
        "test_mean = np.mean(test_scores, axis=1)\n",
        "test_std = np.std(test_scores, axis=1)\n",
        "\n",
        "# Plot the learning curve\n",
        "plt.plot(train_sizes, train_mean, label='Training error')\n",
        "plt.plot(train_sizes, test_mean, label='Testing error')\n",
        "plt.fill_between(train_sizes, train_mean - train_std, train_mean + train_std, alpha=0.1)\n",
        "plt.fill_between(train_sizes, test_mean - test_std, test_mean + test_std, alpha=0.1)\n",
        "plt.xlabel('Number of training examples')\n",
        "plt.ylabel('Error')\n",
        "plt.legend()\n",
        "plt.show()"
      ]
    },
    {
      "cell_type": "code",
      "execution_count": null,
      "metadata": {
        "colab": {
          "base_uri": "https://localhost:8080/",
          "height": 476
        },
        "id": "s8reP8g38D89",
        "outputId": "aa4b6f9e-5f75-4b7c-d7e8-8a6ef18fe56d"
      },
      "outputs": [
        {
          "output_type": "display_data",
          "data": {
            "text/plain": [
              "<Figure size 640x480 with 1 Axes>"
            ],
            "image/png": "[encoded data removed]"
          },
          "metadata": {}
        }
      ],
      "source": [
        "# Define the hyperparameter values to test\n",
        "param_range = np.arange(1, 11)\n",
        "\n",
        "# Plot the validation curve for the max_depth hyperparameter\n",
        "train_scores, test_scores = validation_curve(model1, X, y, param_name='max_depth', param_range=param_range, cv=10, scoring='accuracy', n_jobs=-1)\n",
        "train_mean = np.mean(train_scores, axis=1)\n",
        "train_std = np.std(train_scores, axis=1)\n",
        "test_mean = np.mean(test_scores, axis=1)\n",
        "test_std = np.std(test_scores, axis=1)\n",
        "\n",
        "plt.figure()\n",
        "plt.title('Validation Curve')\n",
        "plt.xlabel('max_depth')\n",
        "plt.ylabel('Accuracy')\n",
        "plt.ylim(0.0, 1.1)\n",
        "plt.semilogx(param_range, train_mean, 'o-', color='r', label='Training Accuracy')\n",
        "plt.fill_between(param_range, train_mean - train_std, train_mean + train_std, alpha=0.1, color='r')\n",
        "plt.semilogx(param_range, test_mean, 'o-', color='g', label='Cross-validation Accuracy')\n",
        "plt.fill_between(param_range, test_mean - test_std, test_mean + test_std, alpha=0.1, color='g')\n",
        "plt.legend(loc='best')\n",
        "plt.show()"
      ]
    },
    {
      "cell_type": "markdown",
      "metadata": {
        "id": "d7p_n8PHrlI_"
      },
      "source": [
        "## Hyperparameter tuning"
      ]
    },
    {
      "cell_type": "code",
      "execution_count": null,
      "metadata": {
        "colab": {
          "base_uri": "https://localhost:8080/"
        },
        "id": "1wwFzQFyqrwg",
        "outputId": "64b5cdeb-267f-4b83-cca7-e4f43072c04c"
      },
      "outputs": [
        {
          "output_type": "execute_result",
          "data": {
            "text/plain": [
              "{'criterion': 'gini',\n",
              " 'max_depth': 15,\n",
              " 'min_samples_leaf': 10,\n",
              " 'min_samples_split': 5}"
            ]
          },
          "metadata": {},
          "execution_count": 11
        }
      ],
      "source": [
        "param = {'max_depth':[5,6,7,10,15],  \n",
        "         'min_samples_leaf':[10,15,13,20,23,25],\n",
        "         'min_samples_split':[2,3,4,5],\n",
        "        'criterion':['gini','entropy','log_loss']}\n",
        "\n",
        "hyp_model1 = GridSearchCV(model1, param, cv=4 )  \n",
        "best_dec = hyp_model1.fit(X_train_resampled, y_train_resampled) \n",
        "best_dec.best_params_"
      ]
    },
    {
      "cell_type": "code",
      "execution_count": null,
      "metadata": {
        "id": "q8hlEGhMqrs1"
      },
      "outputs": [],
      "source": [
        "y_train_pred1_hyp = hyp_model1.predict(X_train_resampled)\n",
        "y_test_pred1_hyp = hyp_model1.predict(X_test)"
      ]
    },
    {
      "cell_type": "code",
      "execution_count": null,
      "metadata": {
        "colab": {
          "base_uri": "https://localhost:8080/"
        },
        "id": "WFO4ipizqrom",
        "outputId": "67a008db-d6f1-4d7d-afd6-4835c31e6b54"
      },
      "outputs": [
        {
          "output_type": "stream",
          "name": "stdout",
          "text": [
            "----------- Train classification Report -----------\n",
            "              precision    recall  f1-score   support\n",
            "\n",
            "           0       0.87      0.94      0.91     15359\n",
            "           1       0.94      0.84      0.89     15359\n",
            "           2       0.97      1.00      0.99     15359\n",
            "\n",
            "    accuracy                           0.93     46077\n",
            "   macro avg       0.93      0.93      0.93     46077\n",
            "weighted avg       0.93      0.93      0.93     46077\n",
            "\n",
            "----------- Test classification Report -----------\n",
            "              precision    recall  f1-score   support\n",
            "\n",
            "           0       0.51      0.85      0.64       754\n",
            "           1       0.96      0.82      0.88      3826\n",
            "           2       0.63      0.87      0.73       184\n",
            "\n",
            "    accuracy                           0.83      4764\n",
            "   macro avg       0.70      0.85      0.75      4764\n",
            "weighted avg       0.88      0.83      0.84      4764\n",
            "\n"
          ]
        }
      ],
      "source": [
        "print('----------- Train classification Report -----------')\n",
        "\n",
        "print(classification_report(y_train_resampled, y_train_pred1_hyp))\n",
        "\n",
        "print('----------- Test classification Report -----------')\n",
        "\n",
        "print(classification_report(y_test, y_test_pred1_hyp))"
      ]
    },
    {
      "cell_type": "code",
      "execution_count": null,
      "metadata": {
        "colab": {
          "base_uri": "https://localhost:8080/",
          "height": 449
        },
        "id": "0q6OXe3_AUap",
        "outputId": "1bc45659-584d-475e-906a-e19eec3629eb"
      },
      "outputs": [
        {
          "output_type": "display_data",
          "data": {
            "text/plain": [
              "<Figure size 640x480 with 1 Axes>"
            ],
            "image/png": "[encoded data removed]"
          },
          "metadata": {}
        }
      ],
      "source": [
        "# Use your actual training set data instead of defining a range of sizes\n",
        "train_sizes = [0.8, 0.7]\n",
        "\n",
        "# Compute learning curves with your actual data\n",
        "train_sizes, train_scores, test_scores = learning_curve(hyp_model1, X_train_resampled, y_train_resampled,\n",
        "                                                        train_sizes=train_sizes,\n",
        "                                                        cv=5)\n",
        "# Calculate the mean and standard deviation of the training and testing scores\n",
        "train_mean = np.mean(train_scores, axis=1)\n",
        "train_std = np.std(train_scores, axis=1)\n",
        "test_mean = np.mean(test_scores, axis=1)\n",
        "test_std = np.std(test_scores, axis=1)\n",
        "\n",
        "# Plot the learning curve\n",
        "plt.plot(train_sizes, train_mean, label='Training error')\n",
        "plt.plot(train_sizes, test_mean, label='Testing error')\n",
        "plt.fill_between(train_sizes, train_mean - train_std, train_mean + train_std, alpha=0.1)\n",
        "plt.fill_between(train_sizes, test_mean - test_std, test_mean + test_std, alpha=0.1)\n",
        "plt.xlabel('Number of training examples')\n",
        "plt.ylabel('Error')\n",
        "plt.legend()\n",
        "plt.show()"
      ]
    },
    {
      "cell_type": "code",
      "execution_count": null,
      "metadata": {
        "colab": {
          "base_uri": "https://localhost:8080/",
          "height": 564
        },
        "id": "SlYIra6GArlE",
        "outputId": "fd15d92c-887a-4ac6-8dfb-5971dae0fa2b"
      },
      "outputs": [
        {
          "data": {
            "image/png": "[encoded data removed]",
            "text/plain": [
              "<Figure size 1000x600 with 1 Axes>"
            ]
          },
          "metadata": {},
          "output_type": "display_data"
        }
      ],
      "source": [
        "# Get the best estimator found by GridSearchCV\n",
        "best_estimator = hyp_model1.best_estimator_\n",
        "\n",
        "# Create a new DecisionTreeClassifier object with the same parameters as the best estimator\n",
        "dtc = DecisionTreeClassifier(criterion=best_estimator.criterion, max_depth=best_estimator.max_depth, min_samples_leaf=best_estimator.min_samples_leaf, min_samples_split=best_estimator.min_samples_split)\n",
        "\n",
        "# Plot the validation curve for the max_depth hyperparameter\n",
        "train_scores, test_scores = validation_curve(dtc, X, y, param_name='max_depth', param_range=param_range, cv=10, scoring='accuracy', n_jobs=-1)\n",
        "train_mean = np.mean(train_scores, axis=1)\n",
        "train_std = np.std(train_scores, axis=1)\n",
        "test_mean = np.mean(test_scores, axis=1)\n",
        "test_std = np.std(test_scores, axis=1)\n",
        "\n",
        "# Plot the validation curve\n",
        "plt.figure(figsize=(10,6))\n",
        "plt.title('Validation Curve with Decision Tree')\n",
        "plt.xlabel('Max Depth')\n",
        "plt.ylabel('Accuracy Score')\n",
        "plt.ylim(0.7, 1.01)\n",
        "plt.xticks(param_range)\n",
        "plt.plot(param_range, train_mean, label='Training score', color='blue', marker='o')\n",
        "plt.fill_between(param_range, train_mean - train_std, train_mean + train_std, alpha=0.15, color='blue')\n",
        "plt.plot(param_range, test_mean, label='Cross-validation score', color='green', marker='s')\n",
        "plt.fill_between(param_range, test_mean - test_std, test_mean + test_std, alpha=0.15, color='green')\n",
        "plt.legend(loc='lower right')\n",
        "plt.show()"
      ]
    },
    {
      "cell_type": "markdown",
      "metadata": {
        "id": "294CQdapyepD"
      },
      "source": [
        "## SVC\n"
      ]
    },
    {
      "cell_type": "code",
      "execution_count": null,
      "metadata": {
        "id": "EUWy0qi6qrlB"
      },
      "outputs": [],
      "source": [
        "# Create SVM model\n",
        "model2 = SVC(kernel='linear')\n",
        "\n",
        "# Train SVM model\n",
        "model2.fit(X_train_resampled, y_train_resampled)\n",
        "\n",
        "# Evaluate the performance of the model\n",
        "y_train_pred2 = model2.predict(X_train_resampled)\n",
        "\n",
        "y_test_pred2 = model2.predict(X_test)"
      ]
    },
    {
      "cell_type": "code",
      "execution_count": null,
      "metadata": {
        "colab": {
          "base_uri": "https://localhost:8080/"
        },
        "id": "woPveghPydqN",
        "outputId": "bcb2b087-d09c-459c-ebfa-443fc374470d"
      },
      "outputs": [
        {
          "output_type": "stream",
          "name": "stdout",
          "text": [
            "----------- Train classification Report -----------\n",
            "              precision    recall  f1-score   support\n",
            "\n",
            "           0       0.70      0.86      0.77     15359\n",
            "           1       0.78      0.62      0.69     15359\n",
            "           2       0.86      0.84      0.85     15359\n",
            "\n",
            "    accuracy                           0.78     46077\n",
            "   macro avg       0.78      0.78      0.77     46077\n",
            "weighted avg       0.78      0.78      0.77     46077\n",
            "\n",
            "----------- Test classification Report -----------\n",
            "              precision    recall  f1-score   support\n",
            "\n",
            "           0       0.35      0.86      0.49       754\n",
            "           1       0.96      0.61      0.75      3826\n",
            "           2       0.31      0.81      0.45       184\n",
            "\n",
            "    accuracy                           0.66      4764\n",
            "   macro avg       0.54      0.76      0.56      4764\n",
            "weighted avg       0.84      0.66      0.70      4764\n",
            "\n"
          ]
        }
      ],
      "source": [
        "print('----------- Train classification Report -----------')\n",
        "\n",
        "print(classification_report(y_train_resampled, y_train_pred2))\n",
        "\n",
        "print('----------- Test classification Report -----------')\n",
        "\n",
        "print(classification_report(y_test, y_test_pred2))"
      ]
    },
    {
      "cell_type": "markdown",
      "metadata": {
        "id": "dLGkDb2Mzq15"
      },
      "source": [
        "## Random Forest"
      ]
    },
    {
      "cell_type": "code",
      "execution_count": null,
      "metadata": {
        "id": "_2GgEAOlydmi"
      },
      "outputs": [],
      "source": [
        "#Create Random Forest model\n",
        "model3 = RandomForestClassifier()\n",
        "\n",
        "# Train Random Forest model\n",
        "model3.fit(X_train_resampled, y_train_resampled)\n",
        "\n",
        "# Evaluate the performance of the model\n",
        "y_train_pred3 = model3.predict(X_train_resampled)\n",
        "\n",
        "y_test_pred3 = model3.predict(X_test)"
      ]
    },
    {
      "cell_type": "code",
      "execution_count": null,
      "metadata": {
        "colab": {
          "base_uri": "https://localhost:8080/"
        },
        "id": "Uq1RyCILydjT",
        "outputId": "f53a07cf-dcb2-4b4e-9e61-c02275b48f81"
      },
      "outputs": [
        {
          "output_type": "stream",
          "name": "stdout",
          "text": [
            "----------- Train classification Report -----------\n",
            "              precision    recall  f1-score   support\n",
            "\n",
            "           0       0.98      1.00      0.99     15359\n",
            "           1       1.00      0.97      0.98     15359\n",
            "           2       1.00      1.00      1.00     15359\n",
            "\n",
            "    accuracy                           0.99     46077\n",
            "   macro avg       0.99      0.99      0.99     46077\n",
            "weighted avg       0.99      0.99      0.99     46077\n",
            "\n",
            "----------- Test classification Report -----------\n",
            "              precision    recall  f1-score   support\n",
            "\n",
            "           0       0.61      0.75      0.67       754\n",
            "           1       0.94      0.90      0.92      3826\n",
            "           2       0.93      0.81      0.86       184\n",
            "\n",
            "    accuracy                           0.88      4764\n",
            "   macro avg       0.83      0.82      0.82      4764\n",
            "weighted avg       0.89      0.88      0.88      4764\n",
            "\n"
          ]
        }
      ],
      "source": [
        "print('----------- Train classification Report -----------')\n",
        "\n",
        "print(classification_report(y_train_resampled, y_train_pred3))\n",
        "\n",
        "print('----------- Test classification Report -----------')\n",
        "\n",
        "print(classification_report(y_test, y_test_pred3))"
      ]
    },
    {
      "cell_type": "markdown",
      "metadata": {
        "id": "LK7_vx_VNLCk"
      },
      "source": [
        "##Hyperparameter Tuning"
      ]
    },
    {
      "cell_type": "code",
      "execution_count": null,
      "metadata": {
        "colab": {
          "base_uri": "https://localhost:8080/"
        },
        "id": "rYFA7CgDydgJ",
        "outputId": "411f91f7-8d63-4bfd-84ce-f7109b87818f"
      },
      "outputs": [
        {
          "output_type": "execute_result",
          "data": {
            "text/plain": [
              "{'n_estimators': 10,\n",
              " 'min_samples_split': 4,\n",
              " 'min_samples_leaf': 13,\n",
              " 'max_features': None,\n",
              " 'max_depth': 25,\n",
              " 'criterion': 'gini'}"
            ]
          },
          "metadata": {},
          "execution_count": 18
        }
      ],
      "source": [
        "# Define hyperparameters to tune\n",
        "param_grid = {'n_estimators': [10, 25, 50, 100],\n",
        "              'max_depth': [None, 5, 10, 20, 25],\n",
        "              'max_features': ['sqrt', 'log2', None],\n",
        "              'min_samples_leaf':[10,12,15,13,20],\n",
        "              'min_samples_split':[2,3,4,5],\n",
        "              'criterion':['gini','entropy']}\n",
        "\n",
        "# Define grid search\n",
        "hyp_model3 = RandomizedSearchCV(estimator=model3, param_distributions=param_grid, cv=5)\n",
        "\n",
        "# Train SVM model with grid search\n",
        "best_rf = hyp_model3.fit(X_train_resampled, y_train_resampled)\n",
        "\n",
        "# Predict test set with best parameters\n",
        "best_rf.best_params_"
      ]
    },
    {
      "cell_type": "code",
      "execution_count": null,
      "metadata": {
        "id": "0Z2yJcaHydct"
      },
      "outputs": [],
      "source": [
        "y_train_pred3_hyp = hyp_model3.predict(X_train_resampled)\n",
        "y_test_pred3_hyp = hyp_model3.predict(X_test)\n"
      ]
    },
    {
      "cell_type": "code",
      "execution_count": null,
      "metadata": {
        "colab": {
          "base_uri": "https://localhost:8080/"
        },
        "id": "E8wWrWcJydZD",
        "outputId": "5d9782f8-ff01-477e-ce68-2ae133fb1561"
      },
      "outputs": [
        {
          "output_type": "stream",
          "name": "stdout",
          "text": [
            "----------- Train classification Report -----------\n",
            "              precision    recall  f1-score   support\n",
            "\n",
            "           0       0.89      0.95      0.92     15359\n",
            "           1       0.95      0.87      0.91     15359\n",
            "           2       0.98      1.00      0.99     15359\n",
            "\n",
            "    accuracy                           0.94     46077\n",
            "   macro avg       0.94      0.94      0.94     46077\n",
            "weighted avg       0.94      0.94      0.94     46077\n",
            "\n",
            "----------- Test classification Report -----------\n",
            "              precision    recall  f1-score   support\n",
            "\n",
            "           0       0.54      0.85      0.66       754\n",
            "           1       0.96      0.85      0.90      3826\n",
            "           2       0.73      0.86      0.79       184\n",
            "\n",
            "    accuracy                           0.85      4764\n",
            "   macro avg       0.74      0.85      0.78      4764\n",
            "weighted avg       0.89      0.85      0.86      4764\n",
            "\n"
          ]
        }
      ],
      "source": [
        "print('----------- Train classification Report -----------')\n",
        "\n",
        "print(classification_report(y_train_resampled, y_train_pred3_hyp))\n",
        "\n",
        "print('----------- Test classification Report -----------')\n",
        "\n",
        "print(classification_report(y_test, y_test_pred3_hyp))"
      ]
    },
    {
      "cell_type": "markdown",
      "metadata": {
        "id": "qHhxg0w0Ouyu"
      },
      "source": [
        "## Naive Bayes"
      ]
    },
    {
      "cell_type": "code",
      "execution_count": null,
      "metadata": {
        "id": "Lqz8n_uxydVJ"
      },
      "outputs": [],
      "source": [
        "# Create Naive Bayes model\n",
        "model4 = GaussianNB()\n",
        "\n",
        "# Train Naive Bayes model\n",
        "model4.fit(X_train_resampled, y_train_resampled)\n",
        "\n",
        "# Evaluate the performance of the model\n",
        "y_train_pred4 = model4.predict(X_train_resampled)\n",
        "\n",
        "y_test_pred4 = model4.predict(X_test)"
      ]
    },
    {
      "cell_type": "code",
      "execution_count": null,
      "metadata": {
        "colab": {
          "base_uri": "https://localhost:8080/"
        },
        "id": "ijIrYd9-ydRO",
        "outputId": "e6461be0-f680-4801-95e2-2c6ffe0f813b"
      },
      "outputs": [
        {
          "output_type": "stream",
          "name": "stdout",
          "text": [
            "----------- Train classification Report -----------\n",
            "              precision    recall  f1-score   support\n",
            "\n",
            "           0       0.60      0.93      0.73     15359\n",
            "           1       0.82      0.63      0.71     15359\n",
            "           2       0.90      0.62      0.73     15359\n",
            "\n",
            "    accuracy                           0.73     46077\n",
            "   macro avg       0.77      0.73      0.73     46077\n",
            "weighted avg       0.77      0.73      0.73     46077\n",
            "\n",
            "----------- Test classification Report -----------\n",
            "              precision    recall  f1-score   support\n",
            "\n",
            "           0       0.35      0.93      0.51       754\n",
            "           1       0.97      0.62      0.76      3826\n",
            "           2       0.35      0.59      0.44       184\n",
            "\n",
            "    accuracy                           0.67      4764\n",
            "   macro avg       0.56      0.71      0.57      4764\n",
            "weighted avg       0.85      0.67      0.71      4764\n",
            "\n"
          ]
        }
      ],
      "source": [
        "print('----------- Train classification Report -----------')\n",
        "\n",
        "print(classification_report(y_train_resampled, y_train_pred4))\n",
        "\n",
        "print('----------- Test classification Report -----------')\n",
        "\n",
        "print(classification_report(y_test, y_test_pred4))"
      ]
    },
    {
      "cell_type": "markdown",
      "metadata": {
        "id": "ct_dG9iqQ25m"
      },
      "source": [
        "## KNN"
      ]
    },
    {
      "cell_type": "code",
      "execution_count": null,
      "metadata": {
        "id": "2dkSWoM2ydN6"
      },
      "outputs": [],
      "source": [
        "model5 = KNeighborsClassifier()\n",
        "\n",
        "# Train KNN model\n",
        "model5.fit(X_train_resampled, y_train_resampled)\n",
        "\n",
        "# Evaluate the performance of the model\n",
        "y_train_pred5 = model5.predict(X_train_resampled)\n",
        "\n",
        "y_test_pred5 = model5.predict(X_test)"
      ]
    },
    {
      "cell_type": "code",
      "execution_count": null,
      "metadata": {
        "colab": {
          "base_uri": "https://localhost:8080/"
        },
        "id": "WkyAezFbydKM",
        "outputId": "adc86147-d432-4981-be0b-0d9ed15238cd"
      },
      "outputs": [
        {
          "output_type": "stream",
          "name": "stdout",
          "text": [
            "----------- Train classification Report -----------\n",
            "              precision    recall  f1-score   support\n",
            "\n",
            "           0       0.90      0.96      0.93     15359\n",
            "           1       0.95      0.88      0.92     15359\n",
            "           2       0.99      0.99      0.99     15359\n",
            "\n",
            "    accuracy                           0.95     46077\n",
            "   macro avg       0.95      0.95      0.95     46077\n",
            "weighted avg       0.95      0.95      0.95     46077\n",
            "\n",
            "----------- Test classification Report -----------\n",
            "              precision    recall  f1-score   support\n",
            "\n",
            "           0       0.45      0.68      0.54       754\n",
            "           1       0.93      0.83      0.88      3826\n",
            "           2       0.55      0.59      0.57       184\n",
            "\n",
            "    accuracy                           0.80      4764\n",
            "   macro avg       0.64      0.70      0.66      4764\n",
            "weighted avg       0.84      0.80      0.81      4764\n",
            "\n"
          ]
        }
      ],
      "source": [
        "print('----------- Train classification Report -----------')\n",
        "\n",
        "print(classification_report(y_train_resampled, y_train_pred5))\n",
        "\n",
        "print('----------- Test classification Report -----------')\n",
        "\n",
        "print(classification_report(y_test, y_test_pred5))"
      ]
    },
    {
      "cell_type": "markdown",
      "metadata": {
        "id": "zPODq-e4RUH8"
      },
      "source": [
        "## Hyperparameter Tuning"
      ]
    },
    {
      "cell_type": "code",
      "execution_count": null,
      "metadata": {
        "colab": {
          "base_uri": "https://localhost:8080/"
        },
        "id": "fKeRMG3kydGh",
        "outputId": "178336c3-104b-4e4c-8c63-617457809f73"
      },
      "outputs": [
        {
          "output_type": "execute_result",
          "data": {
            "text/plain": [
              "{'n_neighbors': 3, 'weights': 'distance'}"
            ]
          },
          "metadata": {},
          "execution_count": 25
        }
      ],
      "source": [
        "param_grid = {'n_neighbors': [3, 5, 7, 9, 11], \n",
        "              'weights': ['uniform', 'distance']}\n",
        "\n",
        "# Define grid search\n",
        "hyp_model5 = GridSearchCV(estimator=model5, param_grid=param_grid, cv=5)\n",
        "\n",
        "# Train SVM model with grid search\n",
        "best_knn = hyp_model5.fit(X_train_resampled, y_train_resampled)\n",
        "\n",
        "# Predict test set with best parameters\n",
        "best_knn.best_params_"
      ]
    },
    {
      "cell_type": "code",
      "execution_count": null,
      "metadata": {
        "id": "1UB1YWtWydCo"
      },
      "outputs": [],
      "source": [
        "y_train_pred5_hyp = hyp_model5.predict(X_train_resampled)\n",
        "y_test_pred5_hyp = hyp_model5.predict(X_test)"
      ]
    },
    {
      "cell_type": "code",
      "execution_count": null,
      "metadata": {
        "colab": {
          "base_uri": "https://localhost:8080/"
        },
        "id": "vf8rcVh5Rw3O",
        "outputId": "c3c419b0-4ce6-445f-a254-7d23b62188af"
      },
      "outputs": [
        {
          "output_type": "stream",
          "name": "stdout",
          "text": [
            "----------- Train classification Report -----------\n",
            "              precision    recall  f1-score   support\n",
            "\n",
            "           0       0.99      0.96      0.97     15359\n",
            "           1       0.95      0.99      0.97     15359\n",
            "           2       1.00      0.99      1.00     15359\n",
            "\n",
            "    accuracy                           0.98     46077\n",
            "   macro avg       0.98      0.98      0.98     46077\n",
            "weighted avg       0.98      0.98      0.98     46077\n",
            "\n",
            "----------- Test classification Report -----------\n",
            "              precision    recall  f1-score   support\n",
            "\n",
            "           0       0.47      0.61      0.53       754\n",
            "           1       0.92      0.86      0.89      3826\n",
            "           2       0.59      0.57      0.58       184\n",
            "\n",
            "    accuracy                           0.81      4764\n",
            "   macro avg       0.66      0.68      0.67      4764\n",
            "weighted avg       0.83      0.81      0.82      4764\n",
            "\n"
          ]
        }
      ],
      "source": [
        "print('----------- Train classification Report -----------')\n",
        "\n",
        "print(classification_report(y_train_resampled, y_train_pred5_hyp))\n",
        "\n",
        "print('----------- Test classification Report -----------')\n",
        "\n",
        "print(classification_report(y_test, y_test_pred5_hyp))"
      ]
    },
    {
      "cell_type": "markdown",
      "metadata": {
        "id": "mIh4nb1kSoxt"
      },
      "source": [
        "## Gradient Boosting"
      ]
    },
    {
      "cell_type": "code",
      "execution_count": null,
      "metadata": {
        "colab": {
          "base_uri": "https://localhost:8080/"
        },
        "id": "iT1PaqUpR5u9",
        "outputId": "4f2f934a-d59b-4aba-be43-8d285a6631cd"
      },
      "outputs": [
        {
          "output_type": "stream",
          "name": "stdout",
          "text": [
            "Train accuracy:  0.9029016646049005\n",
            "Test accuracy:  0.8094038623005877\n"
          ]
        }
      ],
      "source": [
        "# Create GBM model\n",
        "model6 = GradientBoostingClassifier()\n",
        "\n",
        "# Train GBM model\n",
        "model6.fit(X_train_resampled, y_train_resampled)\n",
        "\n",
        "# Evaluate the performance of the model\n",
        "y_train_pred6 = model6.predict(X_train_resampled)\n",
        "\n",
        "y_test_pred6 = model6.predict(X_test)\n",
        "\n",
        "#Print accuracy\n",
        "print('Train accuracy: ', accuracy_score(y_train_resampled, y_train_pred6))\n",
        "print('Test accuracy: ', accuracy_score(y_test, y_test_pred6))"
      ]
    },
    {
      "cell_type": "code",
      "execution_count": null,
      "metadata": {
        "colab": {
          "base_uri": "https://localhost:8080/"
        },
        "id": "tKFDXjVXR5jk",
        "outputId": "735f8c46-5f7c-402b-b0c3-f078c4ef25bd"
      },
      "outputs": [
        {
          "output_type": "stream",
          "name": "stdout",
          "text": [
            "----------- Train classification Report -----------\n",
            "              precision    recall  f1-score   support\n",
            "\n",
            "           0       0.84      0.92      0.88     15359\n",
            "           1       0.91      0.80      0.85     15359\n",
            "           2       0.96      0.99      0.98     15359\n",
            "\n",
            "    accuracy                           0.90     46077\n",
            "   macro avg       0.90      0.90      0.90     46077\n",
            "weighted avg       0.90      0.90      0.90     46077\n",
            "\n",
            "----------- Test classification Report -----------\n",
            "              precision    recall  f1-score   support\n",
            "\n",
            "           0       0.49      0.91      0.63       754\n",
            "           1       0.98      0.78      0.87      3826\n",
            "           2       0.61      0.95      0.74       184\n",
            "\n",
            "    accuracy                           0.81      4764\n",
            "   macro avg       0.69      0.88      0.75      4764\n",
            "weighted avg       0.88      0.81      0.83      4764\n",
            "\n"
          ]
        }
      ],
      "source": [
        "print('----------- Train classification Report -----------')\n",
        "\n",
        "print(classification_report(y_train_resampled, y_train_pred6))\n",
        "\n",
        "print('----------- Test classification Report -----------')\n",
        "\n",
        "print(classification_report(y_test, y_test_pred6))"
      ]
    },
    {
      "cell_type": "markdown",
      "metadata": {
        "id": "lpfoL4iiTRzb"
      },
      "source": [
        "##Hyperparameter Tuning"
      ]
    },
    {
      "cell_type": "code",
      "execution_count": null,
      "metadata": {
        "colab": {
          "base_uri": "https://localhost:8080/"
        },
        "id": "xQWh8ajPTVc7",
        "outputId": "23565e11-fde3-4623-bce2-c7e372b4cec2"
      },
      "outputs": [
        {
          "output_type": "execute_result",
          "data": {
            "text/plain": [
              "{'n_estimators': 150,\n",
              " 'min_samples_split': 3,\n",
              " 'min_samples_leaf': 12,\n",
              " 'max_features': 'sqrt',\n",
              " 'max_depth': 6,\n",
              " 'learning_rate': 0.1}"
            ]
          },
          "metadata": {},
          "execution_count": 30
        }
      ],
      "source": [
        "param_grid = {'n_estimators': [50, 100, 150, 200], \n",
        "              'learning_rate': [0.1, 0.05, 0.01], \n",
        "              'max_depth': [3, 4, 5, 6],\n",
        "              'min_samples_leaf':[10,12,15,13,20],\n",
        "              'min_samples_split':[2,3],\n",
        "              'max_features': ['sqrt', 'log2', None]}\n",
        "\n",
        "# Define grid search\n",
        "hyp_model6 = RandomizedSearchCV(estimator=model6, param_distributions=param_grid, cv=5)\n",
        "\n",
        "# Train SVM model with grid search\n",
        "best_grb = hyp_model6.fit(X_train_resampled, y_train_resampled)\n",
        "\n",
        "# Predict test set with best parameters\n",
        "best_grb.best_params_"
      ]
    },
    {
      "cell_type": "code",
      "execution_count": null,
      "metadata": {
        "id": "mcGOtik8TWNc"
      },
      "outputs": [],
      "source": [
        "y_train_pred6_hyp = hyp_model6.predict(X_train_resampled)\n",
        "y_test_pred6_hyp = hyp_model6.predict(X_test)"
      ]
    },
    {
      "cell_type": "code",
      "execution_count": null,
      "metadata": {
        "colab": {
          "base_uri": "https://localhost:8080/"
        },
        "id": "g9N_yN3ZTvdn",
        "outputId": "9e016160-de21-45ec-e927-f550623bcc94"
      },
      "outputs": [
        {
          "output_type": "stream",
          "name": "stdout",
          "text": [
            "----------- Train classification Report -----------\n",
            "              precision    recall  f1-score   support\n",
            "\n",
            "           0       0.88      0.96      0.92     15359\n",
            "           1       0.95      0.86      0.90     15359\n",
            "           2       0.99      1.00      0.99     15359\n",
            "\n",
            "    accuracy                           0.94     46077\n",
            "   macro avg       0.94      0.94      0.94     46077\n",
            "weighted avg       0.94      0.94      0.94     46077\n",
            "\n",
            "----------- Test classification Report -----------\n",
            "              precision    recall  f1-score   support\n",
            "\n",
            "           0       0.52      0.87      0.66       754\n",
            "           1       0.97      0.83      0.90      3826\n",
            "           2       0.80      0.86      0.83       184\n",
            "\n",
            "    accuracy                           0.84      4764\n",
            "   macro avg       0.76      0.86      0.79      4764\n",
            "weighted avg       0.89      0.84      0.85      4764\n",
            "\n"
          ]
        }
      ],
      "source": [
        "print('----------- Train classification Report -----------')\n",
        "\n",
        "print(classification_report(y_train_resampled, y_train_pred6_hyp))\n",
        "\n",
        "print('----------- Test classification Report -----------')\n",
        "\n",
        "print(classification_report(y_test, y_test_pred6_hyp))"
      ]
    },
    {
      "cell_type": "markdown",
      "metadata": {
        "id": "WlNS_gFbJ6KA"
      },
      "source": [
        "## XG Boost"
      ]
    },
    {
      "cell_type": "code",
      "execution_count": null,
      "metadata": {
        "id": "NV-tGRcLJdwe"
      },
      "outputs": [],
      "source": [
        "# Instantiate the XGBoost model\n",
        "model7 = xgb.XGBClassifier()\n",
        "\n",
        "# Fit the model to the training data\n",
        "model7.fit(X_train_resampled, y_train_resampled)\n",
        "\n",
        "# Make predictions on the test data and train data\n",
        "y_train_pred7 = model7.predict(X_train_resampled)\n",
        "y_test_pred7 = model7.predict(X_test)"
      ]
    },
    {
      "cell_type": "code",
      "execution_count": null,
      "metadata": {
        "colab": {
          "base_uri": "https://localhost:8080/"
        },
        "id": "nYZD4VpRJdtH",
        "outputId": "0d0614bd-76ad-48b3-a415-cf82759f710e"
      },
      "outputs": [
        {
          "output_type": "stream",
          "name": "stdout",
          "text": [
            "              precision    recall  f1-score   support\n",
            "\n",
            "           0       0.90      0.97      0.93     15359\n",
            "           1       0.97      0.88      0.92     15359\n",
            "           2       1.00      1.00      1.00     15359\n",
            "\n",
            "    accuracy                           0.95     46077\n",
            "   macro avg       0.95      0.95      0.95     46077\n",
            "weighted avg       0.95      0.95      0.95     46077\n",
            "\n"
          ]
        }
      ],
      "source": [
        "print(classification_report(y_train_resampled, y_train_pred7))"
      ]
    },
    {
      "cell_type": "code",
      "execution_count": null,
      "metadata": {
        "colab": {
          "base_uri": "https://localhost:8080/"
        },
        "id": "CPUENNQlJdq4",
        "outputId": "6bccffe1-cc51-459f-f318-db1924fd79e9"
      },
      "outputs": [
        {
          "output_type": "stream",
          "name": "stdout",
          "text": [
            "              precision    recall  f1-score   support\n",
            "\n",
            "           0       0.54      0.86      0.66       754\n",
            "           1       0.96      0.85      0.90      3826\n",
            "           2       0.89      0.86      0.87       184\n",
            "\n",
            "    accuracy                           0.85      4764\n",
            "   macro avg       0.80      0.86      0.81      4764\n",
            "weighted avg       0.89      0.85      0.86      4764\n",
            "\n"
          ]
        }
      ],
      "source": [
        "print(classification_report(y_test, y_test_pred7))"
      ]
    },
    {
      "cell_type": "markdown",
      "metadata": {
        "id": "8dsCMRxgJxtH"
      },
      "source": [
        "##Hyperparameter Tuning"
      ]
    },
    {
      "cell_type": "code",
      "execution_count": null,
      "metadata": {
        "colab": {
          "base_uri": "https://localhost:8080/"
        },
        "id": "fsFQMWPGJdnH",
        "outputId": "60e28ab9-d538-40ce-c327-3c2fa7350387"
      },
      "outputs": [
        {
          "output_type": "execute_result",
          "data": {
            "text/plain": [
              "{'subsample': 0.5,\n",
              " 'n_estimators': 250,\n",
              " 'max_depth': 7,\n",
              " 'learning_rate': 0.5,\n",
              " 'gamma': 0,\n",
              " 'colsample_bytree': 0.9}"
            ]
          },
          "metadata": {},
          "execution_count": 36
        }
      ],
      "source": [
        "# Define the hyperparameter space\n",
        "param_dist = {'max_depth': [3, 4, 5, 6, 7],\n",
        "              'learning_rate': [0.01, 0.05, 0.1, 0.3, 0.5],\n",
        "              'n_estimators': [50, 100, 150, 200, 250],\n",
        "              'subsample': [0.5, 0.6, 0.7, 0.8, 0.9],\n",
        "              'colsample_bytree': [0.5, 0.6, 0.7, 0.8, 0.9],\n",
        "              'gamma': [0, 1, 2, 3, 4]}\n",
        "\n",
        "\n",
        "# Define the RandomizedSearchCV object\n",
        "hyp_model7 = RandomizedSearchCV(estimator=model7, param_distributions=param_dist, cv=5)\n",
        "\n",
        "# Fit the RandomizedSearchCV object to the training data\n",
        "best_xgb = hyp_model7.fit(X_train_resampled, y_train_resampled)\n",
        "\n",
        "# Predict test set with best parameters\n",
        "best_xgb.best_params_"
      ]
    },
    {
      "cell_type": "code",
      "execution_count": null,
      "metadata": {
        "id": "GAmVbbCFJdkY"
      },
      "outputs": [],
      "source": [
        "y_train_pred7_hyp = hyp_model7.predict(X_train_resampled)\n",
        "y_test_pred7_hyp = hyp_model7.predict(X_test)"
      ]
    },
    {
      "cell_type": "code",
      "execution_count": null,
      "metadata": {
        "colab": {
          "base_uri": "https://localhost:8080/"
        },
        "id": "Zb4co3WcJdg9",
        "outputId": "ad797bce-8fec-444f-9ef6-39710c0d9baa"
      },
      "outputs": [
        {
          "output_type": "stream",
          "name": "stdout",
          "text": [
            "              precision    recall  f1-score   support\n",
            "\n",
            "           0       0.97      0.99      0.98     15359\n",
            "           1       0.99      0.97      0.98     15359\n",
            "           2       1.00      1.00      1.00     15359\n",
            "\n",
            "    accuracy                           0.99     46077\n",
            "   macro avg       0.99      0.99      0.99     46077\n",
            "weighted avg       0.99      0.99      0.99     46077\n",
            "\n"
          ]
        }
      ],
      "source": [
        "print(classification_report(y_train_resampled, y_train_pred7_hyp))"
      ]
    },
    {
      "cell_type": "code",
      "execution_count": null,
      "metadata": {
        "colab": {
          "base_uri": "https://localhost:8080/"
        },
        "id": "01jngrtAJdd6",
        "outputId": "625fb550-966b-489d-fde2-01dec0a7f2be"
      },
      "outputs": [
        {
          "output_type": "stream",
          "name": "stdout",
          "text": [
            "              precision    recall  f1-score   support\n",
            "\n",
            "           0       0.59      0.69      0.63       754\n",
            "           1       0.93      0.90      0.92      3826\n",
            "           2       0.90      0.84      0.87       184\n",
            "\n",
            "    accuracy                           0.87      4764\n",
            "   macro avg       0.81      0.81      0.81      4764\n",
            "weighted avg       0.88      0.87      0.87      4764\n",
            "\n"
          ]
        }
      ],
      "source": [
        "print(classification_report(y_test, y_test_pred7_hyp))"
      ]
    },
    {
      "cell_type": "markdown",
      "source": [
        "## Logistic Regression"
      ],
      "metadata": {
        "id": "bLaCCD20QznI"
      }
    },
    {
      "cell_type": "code",
      "source": [
        "# Train a binary logistic regression model for each class\n",
        "model8 = OneVsRestClassifier(LogisticRegression())\n",
        "model8.fit(X_train, y_train)"
      ],
      "metadata": {
        "colab": {
          "base_uri": "https://localhost:8080/",
          "height": 555
        },
        "id": "zt0jXJJ4Q4VB",
        "outputId": "e47b48a2-7fc1-4a49-f4f8-fa4c285ed88f"
      },
      "execution_count": null,
      "outputs": [
        {
          "output_type": "stream",
          "name": "stderr",
          "text": [
            "/usr/local/lib/python3.9/dist-packages/sklearn/linear_model/_logistic.py:458: ConvergenceWarning: lbfgs failed to converge (status=1):\n",
            "STOP: TOTAL NO. of ITERATIONS REACHED LIMIT.\n",
            "\n",
            "Increase the number of iterations (max_iter) or scale the data as shown in:\n",
            "    https://scikit-learn.org/stable/modules/preprocessing.html\n",
            "Please also refer to the documentation for alternative solver options:\n",
            "    https://scikit-learn.org/stable/modules/linear_model.html#logistic-regression\n",
            "  n_iter_i = _check_optimize_result(\n",
            "/usr/local/lib/python3.9/dist-packages/sklearn/linear_model/_logistic.py:458: ConvergenceWarning: lbfgs failed to converge (status=1):\n",
            "STOP: TOTAL NO. of ITERATIONS REACHED LIMIT.\n",
            "\n",
            "Increase the number of iterations (max_iter) or scale the data as shown in:\n",
            "    https://scikit-learn.org/stable/modules/preprocessing.html\n",
            "Please also refer to the documentation for alternative solver options:\n",
            "    https://scikit-learn.org/stable/modules/linear_model.html#logistic-regression\n",
            "  n_iter_i = _check_optimize_result(\n",
            "/usr/local/lib/python3.9/dist-packages/sklearn/linear_model/_logistic.py:458: ConvergenceWarning: lbfgs failed to converge (status=1):\n",
            "STOP: TOTAL NO. of ITERATIONS REACHED LIMIT.\n",
            "\n",
            "Increase the number of iterations (max_iter) or scale the data as shown in:\n",
            "    https://scikit-learn.org/stable/modules/preprocessing.html\n",
            "Please also refer to the documentation for alternative solver options:\n",
            "    https://scikit-learn.org/stable/modules/linear_model.html#logistic-regression\n",
            "  n_iter_i = _check_optimize_result(\n"
          ]
        },
        {
          "output_type": "execute_result",
          "data": {
            "text/plain": [
              "OneVsRestClassifier(estimator=LogisticRegression())"
            ],
            "text/html": [
              "<style>#sk-container-id-1 {color: black;background-color: white;}#sk-container-id-1 pre{padding: 0;}#sk-container-id-1 div.sk-toggleable {background-color: white;}#sk-container-id-1 label.sk-toggleable__label {cursor: pointer;display: block;width: 100%;margin-bottom: 0;padding: 0.3em;box-sizing: border-box;text-align: center;}#sk-container-id-1 label.sk-toggleable__label-arrow:before {content: \"▸\";float: left;margin-right: 0.25em;color: #696969;}#sk-container-id-1 label.sk-toggleable__label-arrow:hover:before {color: black;}#sk-container-id-1 div.sk-estimator:hover label.sk-toggleable__label-arrow:before {color: black;}#sk-container-id-1 div.sk-toggleable__content {max-height: 0;max-width: 0;overflow: hidden;text-align: left;background-color: #f0f8ff;}#sk-container-id-1 div.sk-toggleable__content pre {margin: 0.2em;color: black;border-radius: 0.25em;background-color: #f0f8ff;}#sk-container-id-1 input.sk-toggleable__control:checked~div.sk-toggleable__content {max-height: 200px;max-width: 100%;overflow: auto;}#sk-container-id-1 input.sk-toggleable__control:checked~label.sk-toggleable__label-arrow:before {content: \"▾\";}#sk-container-id-1 div.sk-estimator input.sk-toggleable__control:checked~label.sk-toggleable__label {background-color: #d4ebff;}#sk-container-id-1 div.sk-label input.sk-toggleable__control:checked~label.sk-toggleable__label {background-color: #d4ebff;}#sk-container-id-1 input.sk-hidden--visually {border: 0;clip: rect(1px 1px 1px 1px);clip: rect(1px, 1px, 1px, 1px);height: 1px;margin: -1px;overflow: hidden;padding: 0;position: absolute;width: 1px;}#sk-container-id-1 div.sk-estimator {font-family: monospace;background-color: #f0f8ff;border: 1px dotted black;border-radius: 0.25em;box-sizing: border-box;margin-bottom: 0.5em;}#sk-container-id-1 div.sk-estimator:hover {background-color: #d4ebff;}#sk-container-id-1 div.sk-parallel-item::after {content: \"\";width: 100%;border-bottom: 1px solid gray;flex-grow: 1;}#sk-container-id-1 div.sk-label:hover label.sk-toggleable__label {background-color: #d4ebff;}#sk-container-id-1 div.sk-serial::before {content: \"\";position: absolute;border-left: 1px solid gray;box-sizing: border-box;top: 0;bottom: 0;left: 50%;z-index: 0;}#sk-container-id-1 div.sk-serial {display: flex;flex-direction: column;align-items: center;background-color: white;padding-right: 0.2em;padding-left: 0.2em;position: relative;}#sk-container-id-1 div.sk-item {position: relative;z-index: 1;}#sk-container-id-1 div.sk-parallel {display: flex;align-items: stretch;justify-content: center;background-color: white;position: relative;}#sk-container-id-1 div.sk-item::before, #sk-container-id-1 div.sk-parallel-item::before {content: \"\";position: absolute;border-left: 1px solid gray;box-sizing: border-box;top: 0;bottom: 0;left: 50%;z-index: -1;}#sk-container-id-1 div.sk-parallel-item {display: flex;flex-direction: column;z-index: 1;position: relative;background-color: white;}#sk-container-id-1 div.sk-parallel-item:first-child::after {align-self: flex-end;width: 50%;}#sk-container-id-1 div.sk-parallel-item:last-child::after {align-self: flex-start;width: 50%;}#sk-container-id-1 div.sk-parallel-item:only-child::after {width: 0;}#sk-container-id-1 div.sk-dashed-wrapped {border: 1px dashed gray;margin: 0 0.4em 0.5em 0.4em;box-sizing: border-box;padding-bottom: 0.4em;background-color: white;}#sk-container-id-1 div.sk-label label {font-family: monospace;font-weight: bold;display: inline-block;line-height: 1.2em;}#sk-container-id-1 div.sk-label-container {text-align: center;}#sk-container-id-1 div.sk-container {/* jupyter's `normalize.less` sets `[hidden] { display: none; }` but bootstrap.min.css set `[hidden] { display: none !important; }` so we also need the `!important` here to be able to override the default hidden behavior on the sphinx rendered scikit-learn.org. See: https://github.com/scikit-learn/scikit-learn/issues/21755 */display: inline-block !important;position: relative;}#sk-container-id-1 div.sk-text-repr-fallback {display: none;}</style><div id=\"sk-container-id-1\" class=\"sk-top-container\"><div class=\"sk-text-repr-fallback\"><pre>OneVsRestClassifier(estimator=LogisticRegression())</pre><b>In a Jupyter environment, please rerun this cell to show the HTML representation or trust the notebook. <br />On GitHub, the HTML representation is unable to render, please try loading this page with nbviewer.org.</b></div><div class=\"sk-container\" hidden><div class=\"sk-item sk-dashed-wrapped\"><div class=\"sk-label-container\"><div class=\"sk-label sk-toggleable\"><input class=\"sk-toggleable__control sk-hidden--visually\" id=\"sk-estimator-id-1\" type=\"checkbox\" ><label for=\"sk-estimator-id-1\" class=\"sk-toggleable__label sk-toggleable__label-arrow\">OneVsRestClassifier</label><div class=\"sk-toggleable__content\"><pre>OneVsRestClassifier(estimator=LogisticRegression())</pre></div></div></div><div class=\"sk-parallel\"><div class=\"sk-parallel-item\"><div class=\"sk-item\"><div class=\"sk-label-container\"><div class=\"sk-label sk-toggleable\"><input class=\"sk-toggleable__control sk-hidden--visually\" id=\"sk-estimator-id-2\" type=\"checkbox\" ><label for=\"sk-estimator-id-2\" class=\"sk-toggleable__label sk-toggleable__label-arrow\">estimator: LogisticRegression</label><div class=\"sk-toggleable__content\"><pre>LogisticRegression()</pre></div></div></div><div class=\"sk-serial\"><div class=\"sk-item\"><div class=\"sk-estimator sk-toggleable\"><input class=\"sk-toggleable__control sk-hidden--visually\" id=\"sk-estimator-id-3\" type=\"checkbox\" ><label for=\"sk-estimator-id-3\" class=\"sk-toggleable__label sk-toggleable__label-arrow\">LogisticRegression</label><div class=\"sk-toggleable__content\"><pre>LogisticRegression()</pre></div></div></div></div></div></div></div></div></div></div>"
            ]
          },
          "metadata": {},
          "execution_count": 41
        }
      ]
    },
    {
      "cell_type": "code",
      "source": [
        "# Make predictions on the test data and train data\n",
        "y_train_pred8 = model8.predict(X_train)\n",
        "y_test_pred8 = model8.predict(X_test)"
      ],
      "metadata": {
        "id": "tozoBJmpQ4TS"
      },
      "execution_count": null,
      "outputs": []
    },
    {
      "cell_type": "code",
      "source": [
        "print(classification_report(y_train, y_train_pred8))"
      ],
      "metadata": {
        "colab": {
          "base_uri": "https://localhost:8080/"
        },
        "id": "78nzI5v-Q4Rt",
        "outputId": "8541a383-5da7-46a0-c50e-dd9d4580a3fb"
      },
      "execution_count": null,
      "outputs": [
        {
          "output_type": "stream",
          "name": "stdout",
          "text": [
            "              precision    recall  f1-score   support\n",
            "\n",
            "           0       0.55      0.07      0.12      3002\n",
            "           1       0.83      0.99      0.90     15359\n",
            "           2       0.78      0.36      0.49       695\n",
            "\n",
            "    accuracy                           0.82     19056\n",
            "   macro avg       0.72      0.47      0.51     19056\n",
            "weighted avg       0.78      0.82      0.76     19056\n",
            "\n"
          ]
        }
      ]
    },
    {
      "cell_type": "code",
      "source": [
        "print(classification_report(y_test, y_test_pred8))"
      ],
      "metadata": {
        "colab": {
          "base_uri": "https://localhost:8080/"
        },
        "id": "YRyG0VXcQ4QF",
        "outputId": "5ee1563b-b0b1-4b0f-bb86-d2793b43fa0f"
      },
      "execution_count": null,
      "outputs": [
        {
          "output_type": "stream",
          "name": "stdout",
          "text": [
            "              precision    recall  f1-score   support\n",
            "\n",
            "           0       0.56      0.07      0.13       754\n",
            "           1       0.83      0.99      0.90      3826\n",
            "           2       0.83      0.35      0.49       184\n",
            "\n",
            "    accuracy                           0.82      4764\n",
            "   macro avg       0.74      0.47      0.51      4764\n",
            "weighted avg       0.78      0.82      0.76      4764\n",
            "\n"
          ]
        }
      ]
    },
    {
      "cell_type": "markdown",
      "metadata": {
        "id": "sFpwUQFNqTOm"
      },
      "source": [
        "#SMOTE"
      ]
    },
    {
      "cell_type": "code",
      "execution_count": null,
      "metadata": {
        "id": "4xkolnOGzQRt"
      },
      "outputs": [],
      "source": [
        "smote = SMOTE()"
      ]
    },
    {
      "cell_type": "code",
      "execution_count": null,
      "metadata": {
        "colab": {
          "base_uri": "https://localhost:8080/"
        },
        "id": "0yX2fiHLzQOI",
        "outputId": "19c8b3ae-12c6-46b3-ff4f-9fecab69cd57"
      },
      "outputs": [
        {
          "output_type": "stream",
          "name": "stdout",
          "text": [
            "1    15359\n",
            "0    15359\n",
            "2    15359\n",
            "dtype: int64\n"
          ]
        }
      ],
      "source": [
        "X_smote_train, y_smote_train = smote.fit_resample(X_train, y_train)\n",
        "\n",
        "# Print the new class distribution\n",
        "print(pd.Series(y_smote_train).value_counts())"
      ]
    },
    {
      "cell_type": "code",
      "execution_count": null,
      "metadata": {
        "colab": {
          "base_uri": "https://localhost:8080/"
        },
        "id": "1YAcGDUs0mg8",
        "outputId": "2c523431-a40e-481b-c284-0e1ee2080238"
      },
      "outputs": [
        {
          "output_type": "execute_result",
          "data": {
            "text/plain": [
              "(46077, 16)"
            ]
          },
          "metadata": {},
          "execution_count": 60
        }
      ],
      "source": [
        "X_smote_train.shape"
      ]
    },
    {
      "cell_type": "markdown",
      "metadata": {
        "id": "4RIuKm3EqbSE"
      },
      "source": [
        "## Decision Tree"
      ]
    },
    {
      "cell_type": "code",
      "execution_count": null,
      "metadata": {
        "id": "Qn1MBSVOzQHW"
      },
      "outputs": [],
      "source": [
        "from sklearn.tree import DecisionTreeClassifier\n",
        "from sklearn.metrics import accuracy_score\n",
        "from sklearn.metrics import classification_report\n",
        "\n",
        "# Build the decision tree model\n",
        "model11 = DecisionTreeClassifier(criterion='entropy', max_depth=10)\n",
        "model11.fit(X_smote_train, y_smote_train)\n",
        "\n",
        "# Evaluate the performance of the model\n",
        "y_train_pred11 = model11.predict(X_smote_train)\n",
        "\n",
        "y_test_pred11 = model11.predict(X_test)"
      ]
    },
    {
      "cell_type": "code",
      "execution_count": null,
      "metadata": {
        "colab": {
          "base_uri": "https://localhost:8080/"
        },
        "id": "khDpZKzC2Awm",
        "outputId": "5972211b-f446-4ac4-d261-007b2f23a791"
      },
      "outputs": [
        {
          "output_type": "stream",
          "name": "stdout",
          "text": [
            "              precision    recall  f1-score   support\n",
            "\n",
            "           0       0.88      0.93      0.90     15359\n",
            "           1       0.93      0.85      0.89     15359\n",
            "           2       0.97      1.00      0.98     15359\n",
            "\n",
            "    accuracy                           0.93     46077\n",
            "   macro avg       0.93      0.93      0.92     46077\n",
            "weighted avg       0.93      0.93      0.92     46077\n",
            "\n"
          ]
        }
      ],
      "source": [
        "print(classification_report(y_smote_train, y_train_pred11))"
      ]
    },
    {
      "cell_type": "code",
      "execution_count": null,
      "metadata": {
        "colab": {
          "base_uri": "https://localhost:8080/"
        },
        "id": "a4ceqGdp2Dou",
        "outputId": "b825b6ee-b084-4564-920f-d2de9a6b1843"
      },
      "outputs": [
        {
          "output_type": "stream",
          "name": "stdout",
          "text": [
            "              precision    recall  f1-score   support\n",
            "\n",
            "           0       0.55      0.84      0.66       754\n",
            "           1       0.96      0.84      0.90      3826\n",
            "           2       0.60      0.85      0.70       184\n",
            "\n",
            "    accuracy                           0.84      4764\n",
            "   macro avg       0.70      0.85      0.75      4764\n",
            "weighted avg       0.88      0.84      0.85      4764\n",
            "\n"
          ]
        }
      ],
      "source": [
        "print(classification_report(y_test, y_test_pred11))"
      ]
    },
    {
      "cell_type": "markdown",
      "metadata": {
        "id": "-RQRsrrXatAh"
      },
      "source": [
        "##Hyperparameter Tuning"
      ]
    },
    {
      "cell_type": "code",
      "execution_count": null,
      "metadata": {
        "colab": {
          "base_uri": "https://localhost:8080/"
        },
        "id": "1UhcmZPQ2x0-",
        "outputId": "b228638f-66e5-46d1-a290-f7db45740cae"
      },
      "outputs": [
        {
          "output_type": "execute_result",
          "data": {
            "text/plain": [
              "{'criterion': 'gini',\n",
              " 'max_depth': 15,\n",
              " 'min_samples_leaf': 10,\n",
              " 'min_samples_split': 2}"
            ]
          },
          "metadata": {},
          "execution_count": 65
        }
      ],
      "source": [
        "param = {'max_depth':[5,6,7,10,15],  \n",
        "         'min_samples_leaf':[10,15,13,20,23,25],\n",
        "         'min_samples_split':[2,3,4,5],\n",
        "        'criterion':['gini','entropy','log_loss']}\n",
        "\n",
        "hyp_model11 = GridSearchCV(model11, param, cv=4 )  \n",
        "best_dec = hyp_model11.fit(X_smote_train, y_smote_train) \n",
        "best_dec.best_params_"
      ]
    },
    {
      "cell_type": "code",
      "execution_count": null,
      "metadata": {
        "colab": {
          "base_uri": "https://localhost:8080/"
        },
        "id": "o2zMDnn_27ER",
        "outputId": "61e9328e-0563-4d1e-9d6d-a4984c598a60"
      },
      "outputs": [
        {
          "output_type": "stream",
          "name": "stdout",
          "text": [
            "Train accuracy:  0.940903270612236\n",
            "Test accuracy:  0.8570528967254408\n"
          ]
        }
      ],
      "source": [
        "y_train_pred11_hyp = hyp_model11.predict(X_smote_train)\n",
        "y_test_pred11_hyp = hyp_model11.predict(X_test)\n",
        "\n",
        "print('Train accuracy: ',accuracy_score(y_smote_train, y_train_pred11_hyp))\n",
        "print('Test accuracy: ', accuracy_score(y_test, y_test_pred11_hyp))"
      ]
    },
    {
      "cell_type": "code",
      "execution_count": null,
      "metadata": {
        "colab": {
          "base_uri": "https://localhost:8080/"
        },
        "id": "h0p8o3Cb27A5",
        "outputId": "bf5556c0-4057-47f4-9e7f-3fe88a37adcc"
      },
      "outputs": [
        {
          "output_type": "stream",
          "name": "stdout",
          "text": [
            "----------- Train classification Report -----------\n",
            "              precision    recall  f1-score   support\n",
            "\n",
            "           0       0.91      0.94      0.92     15359\n",
            "           1       0.93      0.90      0.91     15359\n",
            "           2       0.98      0.99      0.98     15359\n",
            "\n",
            "    accuracy                           0.94     46077\n",
            "   macro avg       0.94      0.94      0.94     46077\n",
            "weighted avg       0.94      0.94      0.94     46077\n",
            "\n",
            "----------- Test classification Report -----------\n",
            "              precision    recall  f1-score   support\n",
            "\n",
            "           0       0.58      0.78      0.67       754\n",
            "           1       0.95      0.87      0.91      3826\n",
            "           2       0.69      0.82      0.75       184\n",
            "\n",
            "    accuracy                           0.86      4764\n",
            "   macro avg       0.74      0.82      0.77      4764\n",
            "weighted avg       0.88      0.86      0.86      4764\n",
            "\n"
          ]
        }
      ],
      "source": [
        "print('----------- Train classification Report -----------')\n",
        "\n",
        "print(classification_report(y_smote_train, y_train_pred11_hyp))\n",
        "\n",
        "print('----------- Test classification Report -----------')\n",
        "\n",
        "print(classification_report(y_test, y_test_pred11_hyp))"
      ]
    },
    {
      "cell_type": "markdown",
      "metadata": {
        "id": "0bcvm0x9bay1"
      },
      "source": [
        "## SVC"
      ]
    },
    {
      "cell_type": "code",
      "execution_count": null,
      "metadata": {
        "colab": {
          "base_uri": "https://localhost:8080/"
        },
        "id": "iLAVpvKV269j",
        "outputId": "7e594c53-747b-4280-ab41-eeb41a98c22b"
      },
      "outputs": [
        {
          "output_type": "stream",
          "name": "stdout",
          "text": [
            "Train accuracy:  0.7441022636022311\n",
            "Test accuracy:  0.7090680100755667\n"
          ]
        }
      ],
      "source": [
        "# Create SVM model\n",
        "model22 = SVC(kernel='linear')\n",
        "\n",
        "# Train SVM model\n",
        "model22.fit(X_smote_train, y_smote_train)\n",
        "\n",
        "# Evaluate the performance of the model\n",
        "y_train_pred22 = model22.predict(X_smote_train)\n",
        "\n",
        "y_test_pred22 = model22.predict(X_test)\n",
        "\n",
        "#Print accuracy\n",
        "print('Train accuracy: ', accuracy_score(y_smote_train, y_train_pred22))\n",
        "print('Test accuracy: ', accuracy_score(y_test, y_test_pred22))"
      ]
    },
    {
      "cell_type": "code",
      "execution_count": null,
      "metadata": {
        "colab": {
          "base_uri": "https://localhost:8080/"
        },
        "id": "aXYDr2In266K",
        "outputId": "719de80d-5e8a-4231-b467-38315df3444f"
      },
      "outputs": [
        {
          "output_type": "stream",
          "name": "stdout",
          "text": [
            "----------- Train classification Report -----------\n",
            "              precision    recall  f1-score   support\n",
            "\n",
            "           0       0.74      0.76      0.75     15359\n",
            "           1       0.63      0.72      0.67     15359\n",
            "           2       0.91      0.75      0.83     15359\n",
            "\n",
            "    accuracy                           0.74     46077\n",
            "   macro avg       0.76      0.74      0.75     46077\n",
            "weighted avg       0.76      0.74      0.75     46077\n",
            "\n",
            "----------- Test classification Report -----------\n",
            "              precision    recall  f1-score   support\n",
            "\n",
            "           0       0.37      0.72      0.49       754\n",
            "           1       0.92      0.71      0.80      3826\n",
            "           2       0.37      0.67      0.47       184\n",
            "\n",
            "    accuracy                           0.71      4764\n",
            "   macro avg       0.55      0.70      0.59      4764\n",
            "weighted avg       0.81      0.71      0.74      4764\n",
            "\n"
          ]
        }
      ],
      "source": [
        "print('----------- Train classification Report -----------')\n",
        "\n",
        "print(classification_report(y_smote_train, y_train_pred22))\n",
        "\n",
        "print('----------- Test classification Report -----------')\n",
        "\n",
        "print(classification_report(y_test, y_test_pred22))"
      ]
    },
    {
      "cell_type": "markdown",
      "metadata": {
        "id": "ek3NUQl4b5nF"
      },
      "source": [
        "## Random Forest"
      ]
    },
    {
      "cell_type": "code",
      "execution_count": null,
      "metadata": {
        "colab": {
          "base_uri": "https://localhost:8080/"
        },
        "id": "d-5ffbz4262Y",
        "outputId": "3f5984f3-1d11-48cb-8459-7c0b7b7a1771"
      },
      "outputs": [
        {
          "output_type": "stream",
          "name": "stdout",
          "text": [
            "Train accuracy:  0.9932504286303362\n",
            "Test accuracy:  0.8879093198992444\n"
          ]
        }
      ],
      "source": [
        "#Create Random Forest model\n",
        "model33 = RandomForestClassifier()\n",
        "\n",
        "# Train Random Forest model\n",
        "model33.fit(X_smote_train, y_smote_train)\n",
        "\n",
        "# Evaluate the performance of the model\n",
        "y_train_pred33 = model33.predict(X_smote_train)\n",
        "\n",
        "y_test_pred33 = model33.predict(X_test)\n",
        "\n",
        "\n",
        "#Print accuracy\n",
        "print('Train accuracy: ', accuracy_score(y_smote_train, y_train_pred33))\n",
        "print('Test accuracy: ', accuracy_score(y_test, y_test_pred33))"
      ]
    },
    {
      "cell_type": "code",
      "execution_count": null,
      "metadata": {
        "colab": {
          "base_uri": "https://localhost:8080/"
        },
        "id": "3uTeXWC126zK",
        "outputId": "7f65f6c9-9bdb-404d-a1bd-66b7bf15d2d7"
      },
      "outputs": [
        {
          "output_type": "stream",
          "name": "stdout",
          "text": [
            "----------- Train classification Report -----------\n",
            "              precision    recall  f1-score   support\n",
            "\n",
            "           0       0.99      0.99      0.99     15359\n",
            "           1       0.99      0.99      0.99     15359\n",
            "           2       1.00      1.00      1.00     15359\n",
            "\n",
            "    accuracy                           0.99     46077\n",
            "   macro avg       0.99      0.99      0.99     46077\n",
            "weighted avg       0.99      0.99      0.99     46077\n",
            "\n",
            "----------- Test classification Report -----------\n",
            "              precision    recall  f1-score   support\n",
            "\n",
            "           0       0.65      0.71      0.68       754\n",
            "           1       0.94      0.93      0.93      3826\n",
            "           2       0.93      0.83      0.88       184\n",
            "\n",
            "    accuracy                           0.89      4764\n",
            "   macro avg       0.84      0.82      0.83      4764\n",
            "weighted avg       0.89      0.89      0.89      4764\n",
            "\n"
          ]
        }
      ],
      "source": [
        "print('----------- Train classification Report -----------')\n",
        "\n",
        "print(classification_report(y_smote_train, y_train_pred33))\n",
        "\n",
        "print('----------- Test classification Report -----------')\n",
        "\n",
        "print(classification_report(y_test, y_test_pred33))"
      ]
    },
    {
      "cell_type": "markdown",
      "metadata": {
        "id": "23Yc83SDcsun"
      },
      "source": [
        "## Hyperparameter Tuning"
      ]
    },
    {
      "cell_type": "code",
      "execution_count": null,
      "metadata": {
        "colab": {
          "base_uri": "https://localhost:8080/"
        },
        "id": "EYnQRcSI26vf",
        "outputId": "bfdf9ac0-bed6-4ed8-e983-7debdab75f1e"
      },
      "outputs": [
        {
          "output_type": "execute_result",
          "data": {
            "text/plain": [
              "{'n_estimators': 10,\n",
              " 'min_samples_split': 2,\n",
              " 'min_samples_leaf': 12,\n",
              " 'max_features': None,\n",
              " 'max_depth': None,\n",
              " 'criterion': 'entropy'}"
            ]
          },
          "metadata": {},
          "execution_count": 72
        }
      ],
      "source": [
        "# Define hyperparameters to tune\n",
        "param_grid = {'n_estimators': [10, 25, 50, 100],\n",
        "              'max_depth': [None, 5, 10, 20, 25],\n",
        "              'max_features': ['sqrt', 'log2', None],\n",
        "              'min_samples_leaf':[10,12,15,13,20],\n",
        "              'min_samples_split':[2,3,4,5],\n",
        "              'criterion':['gini','entropy']}\n",
        "\n",
        "# Define grid search\n",
        "hyp_model33 = RandomizedSearchCV(estimator=model33, param_distributions=param_grid, cv=5)\n",
        "\n",
        "# Train SVM model with grid search\n",
        "best_rf = hyp_model33.fit(X_smote_train, y_smote_train)\n",
        "\n",
        "# Predict test set with best parameters\n",
        "best_rf.best_params_"
      ]
    },
    {
      "cell_type": "code",
      "execution_count": null,
      "metadata": {
        "colab": {
          "base_uri": "https://localhost:8080/"
        },
        "id": "-BgfcQsM26sc",
        "outputId": "66ca0c65-4892-4e3f-9bcf-4d2d9eba3e9d"
      },
      "outputs": [
        {
          "output_type": "stream",
          "name": "stdout",
          "text": [
            "Train accuracy:  0.9560301234889425\n",
            "Test accuracy:  0.8849706129303107\n"
          ]
        }
      ],
      "source": [
        "y_train_pred33_hyp = hyp_model33.predict(X_smote_train)\n",
        "y_test_pred33_hyp = hyp_model33.predict(X_test)\n",
        "\n",
        "print('Train accuracy: ',accuracy_score(y_smote_train, y_train_pred33_hyp))\n",
        "print('Test accuracy: ', accuracy_score(y_test, y_test_pred33_hyp))"
      ]
    },
    {
      "cell_type": "code",
      "execution_count": null,
      "metadata": {
        "colab": {
          "base_uri": "https://localhost:8080/"
        },
        "id": "eR1ZB1_0dT4o",
        "outputId": "678d9aea-1226-4143-fc6b-2ae7a02c5b7d"
      },
      "outputs": [
        {
          "output_type": "stream",
          "name": "stdout",
          "text": [
            "----------- Train classification Report -----------\n",
            "              precision    recall  f1-score   support\n",
            "\n",
            "           0       0.94      0.94      0.94     15359\n",
            "           1       0.94      0.93      0.94     15359\n",
            "           2       0.99      0.99      0.99     15359\n",
            "\n",
            "    accuracy                           0.96     46077\n",
            "   macro avg       0.96      0.96      0.96     46077\n",
            "weighted avg       0.96      0.96      0.96     46077\n",
            "\n",
            "----------- Test classification Report -----------\n",
            "              precision    recall  f1-score   support\n",
            "\n",
            "           0       0.65      0.74      0.69       754\n",
            "           1       0.94      0.92      0.93      3826\n",
            "           2       0.84      0.83      0.84       184\n",
            "\n",
            "    accuracy                           0.88      4764\n",
            "   macro avg       0.81      0.83      0.82      4764\n",
            "weighted avg       0.89      0.88      0.89      4764\n",
            "\n"
          ]
        }
      ],
      "source": [
        "print('----------- Train classification Report -----------')\n",
        "\n",
        "print(classification_report(y_smote_train, y_train_pred33_hyp))\n",
        "\n",
        "print('----------- Test classification Report -----------')\n",
        "\n",
        "print(classification_report(y_test, y_test_pred33_hyp))"
      ]
    },
    {
      "cell_type": "markdown",
      "metadata": {
        "id": "vpsODUmCdcR2"
      },
      "source": [
        "## Naive Bayes"
      ]
    },
    {
      "cell_type": "code",
      "execution_count": null,
      "metadata": {
        "colab": {
          "base_uri": "https://localhost:8080/"
        },
        "id": "0CSaP6bRdbpI",
        "outputId": "9a6c3545-71de-4465-bcfd-98886e152985"
      },
      "outputs": [
        {
          "output_type": "stream",
          "name": "stdout",
          "text": [
            "Train accuracy:  0.7561039130151702\n",
            "Test accuracy:  0.674433249370277\n"
          ]
        }
      ],
      "source": [
        "# Create Naive Bayes model\n",
        "model44 = GaussianNB()\n",
        "\n",
        "# Train Naive Bayes model\n",
        "model44.fit(X_smote_train, y_smote_train)\n",
        "\n",
        "# Evaluate the performance of the model\n",
        "y_train_pred44 = model44.predict(X_smote_train)\n",
        "\n",
        "y_test_pred44 = model44.predict(X_test)\n",
        "\n",
        "#Print accuracy\n",
        "print('Train accuracy: ', accuracy_score(y_smote_train, y_train_pred44))\n",
        "print('Test accuracy: ', accuracy_score(y_test, y_test_pred44))"
      ]
    },
    {
      "cell_type": "code",
      "execution_count": null,
      "metadata": {
        "colab": {
          "base_uri": "https://localhost:8080/"
        },
        "id": "J1pVO7GNdT15",
        "outputId": "d6106a94-7764-4687-94cc-a44a1239b1e1"
      },
      "outputs": [
        {
          "output_type": "stream",
          "name": "stdout",
          "text": [
            "----------- Train classification Report -----------\n",
            "              precision    recall  f1-score   support\n",
            "\n",
            "           0       0.64      0.93      0.76     15359\n",
            "           1       0.82      0.64      0.72     15359\n",
            "           2       0.91      0.70      0.79     15359\n",
            "\n",
            "    accuracy                           0.76     46077\n",
            "   macro avg       0.79      0.76      0.76     46077\n",
            "weighted avg       0.79      0.76      0.76     46077\n",
            "\n",
            "----------- Test classification Report -----------\n",
            "              precision    recall  f1-score   support\n",
            "\n",
            "           0       0.35      0.92      0.50       754\n",
            "           1       0.97      0.63      0.76      3826\n",
            "           2       0.38      0.60      0.46       184\n",
            "\n",
            "    accuracy                           0.67      4764\n",
            "   macro avg       0.56      0.72      0.58      4764\n",
            "weighted avg       0.85      0.67      0.71      4764\n",
            "\n"
          ]
        }
      ],
      "source": [
        "print('----------- Train classification Report -----------')\n",
        "\n",
        "print(classification_report(y_smote_train, y_train_pred44))\n",
        "\n",
        "print('----------- Test classification Report -----------')\n",
        "\n",
        "print(classification_report(y_test, y_test_pred44))"
      ]
    },
    {
      "cell_type": "markdown",
      "metadata": {
        "id": "-rwQnD6uexNB"
      },
      "source": [
        "## KNN"
      ]
    },
    {
      "cell_type": "code",
      "execution_count": null,
      "metadata": {
        "colab": {
          "base_uri": "https://localhost:8080/"
        },
        "id": "ubLyzUGUewfD",
        "outputId": "60b6d7b2-57b0-4179-97ea-edd09549ef55"
      },
      "outputs": [
        {
          "output_type": "stream",
          "name": "stdout",
          "text": [
            "Train accuracy:  0.94044751177377\n",
            "Test accuracy:  0.7760285474391267\n"
          ]
        }
      ],
      "source": [
        "model55 = KNeighborsClassifier()\n",
        "\n",
        "# Train KNN model\n",
        "model55.fit(X_smote_train, y_smote_train)\n",
        "\n",
        "# Evaluate the performance of the model\n",
        "y_train_pred55 = model55.predict(X_smote_train)\n",
        "\n",
        "y_test_pred55 = model55.predict(X_test)\n",
        "\n",
        "#Print accuracy\n",
        "print('Train accuracy: ', accuracy_score(y_smote_train, y_train_pred55))\n",
        "print('Test accuracy: ', accuracy_score(y_test, y_test_pred55))"
      ]
    },
    {
      "cell_type": "code",
      "execution_count": null,
      "metadata": {
        "colab": {
          "base_uri": "https://localhost:8080/"
        },
        "id": "KdQRCqDTdTxj",
        "outputId": "14e1152f-3a13-4b18-a0db-340d3889d68a"
      },
      "outputs": [
        {
          "output_type": "stream",
          "name": "stdout",
          "text": [
            "----------- Train classification Report -----------\n",
            "              precision    recall  f1-score   support\n",
            "\n",
            "           0       0.89      0.97      0.93     15359\n",
            "           1       0.97      0.86      0.91     15359\n",
            "           2       0.97      1.00      0.98     15359\n",
            "\n",
            "    accuracy                           0.94     46077\n",
            "   macro avg       0.94      0.94      0.94     46077\n",
            "weighted avg       0.94      0.94      0.94     46077\n",
            "\n",
            "----------- Test classification Report -----------\n",
            "              precision    recall  f1-score   support\n",
            "\n",
            "           0       0.43      0.70      0.53       754\n",
            "           1       0.94      0.80      0.86      3826\n",
            "           2       0.41      0.66      0.51       184\n",
            "\n",
            "    accuracy                           0.78      4764\n",
            "   macro avg       0.59      0.72      0.64      4764\n",
            "weighted avg       0.84      0.78      0.80      4764\n",
            "\n"
          ]
        }
      ],
      "source": [
        "print('----------- Train classification Report -----------')\n",
        "\n",
        "print(classification_report(y_smote_train, y_train_pred55))\n",
        "\n",
        "print('----------- Test classification Report -----------')\n",
        "\n",
        "print(classification_report(y_test, y_test_pred55))"
      ]
    },
    {
      "cell_type": "markdown",
      "metadata": {
        "id": "XCUoYjYifb5L"
      },
      "source": [
        "##Hyperparameter Tuning"
      ]
    },
    {
      "cell_type": "code",
      "execution_count": null,
      "metadata": {
        "colab": {
          "base_uri": "https://localhost:8080/"
        },
        "id": "yLWFilQEdTuf",
        "outputId": "045a51ba-1da7-4296-9d6a-cdd4f5da606c"
      },
      "outputs": [
        {
          "output_type": "execute_result",
          "data": {
            "text/plain": [
              "{'n_neighbors': 3, 'weights': 'distance'}"
            ]
          },
          "metadata": {},
          "execution_count": 79
        }
      ],
      "source": [
        "param_grid = {'n_neighbors': [3, 5, 7, 9, 11], \n",
        "              'weights': ['uniform', 'distance']}\n",
        "\n",
        "# Define grid search\n",
        "hyp_model55 = GridSearchCV(estimator=model55, param_grid=param_grid, cv=5)\n",
        "\n",
        "# Train SVM model with grid search\n",
        "best_knn = hyp_model55.fit(X_smote_train, y_smote_train)\n",
        "\n",
        "# Predict test set with best parameters\n",
        "best_knn.best_params_"
      ]
    },
    {
      "cell_type": "code",
      "execution_count": null,
      "metadata": {
        "colab": {
          "base_uri": "https://localhost:8080/"
        },
        "id": "rs34HlQ5dTrF",
        "outputId": "1a9003c1-df63-43f6-f066-ad7ca89dbbe9"
      },
      "outputs": [
        {
          "output_type": "stream",
          "name": "stdout",
          "text": [
            "Train accuracy:  0.9908848232306791\n",
            "Test accuracy:  0.7873635600335852\n"
          ]
        }
      ],
      "source": [
        "y_train_pred55_hyp = hyp_model55.predict(X_smote_train)\n",
        "y_test_pred55_hyp = hyp_model55.predict(X_test)\n",
        "\n",
        "print('Train accuracy: ',accuracy_score(y_smote_train, y_train_pred55_hyp))\n",
        "print('Test accuracy: ', accuracy_score(y_test, y_test_pred55_hyp))"
      ]
    },
    {
      "cell_type": "code",
      "execution_count": null,
      "metadata": {
        "colab": {
          "base_uri": "https://localhost:8080/"
        },
        "id": "8kl4cz0edTnj",
        "outputId": "df2a925b-0a32-4a8a-f78a-92f9eb734f83"
      },
      "outputs": [
        {
          "output_type": "stream",
          "name": "stdout",
          "text": [
            "----------- Train classification Report -----------\n",
            "              precision    recall  f1-score   support\n",
            "\n",
            "           0       0.99      0.98      0.99     15359\n",
            "           1       0.98      0.99      0.99     15359\n",
            "           2       1.00      1.00      1.00     15359\n",
            "\n",
            "    accuracy                           0.99     46077\n",
            "   macro avg       0.99      0.99      0.99     46077\n",
            "weighted avg       0.99      0.99      0.99     46077\n",
            "\n",
            "----------- Test classification Report -----------\n",
            "              precision    recall  f1-score   support\n",
            "\n",
            "           0       0.44      0.64      0.52       754\n",
            "           1       0.93      0.82      0.87      3826\n",
            "           2       0.43      0.65      0.52       184\n",
            "\n",
            "    accuracy                           0.79      4764\n",
            "   macro avg       0.60      0.71      0.64      4764\n",
            "weighted avg       0.83      0.79      0.80      4764\n",
            "\n"
          ]
        }
      ],
      "source": [
        "print('----------- Train classification Report -----------')\n",
        "\n",
        "print(classification_report(y_smote_train, y_train_pred55_hyp))\n",
        "\n",
        "print('----------- Test classification Report -----------')\n",
        "\n",
        "print(classification_report(y_test, y_test_pred55_hyp))"
      ]
    },
    {
      "cell_type": "markdown",
      "metadata": {
        "id": "XJl0odbRg8b3"
      },
      "source": [
        "## Gradient Boosting"
      ]
    },
    {
      "cell_type": "code",
      "execution_count": null,
      "metadata": {
        "colab": {
          "base_uri": "https://localhost:8080/"
        },
        "id": "Fb7e5yK9g7k4",
        "outputId": "bf8753f9-c117-4dfb-a105-33f808cf26cb"
      },
      "outputs": [
        {
          "output_type": "stream",
          "name": "stdout",
          "text": [
            "Train accuracy:  0.9342622132517308\n",
            "Test accuracy:  0.8602015113350125\n"
          ]
        }
      ],
      "source": [
        "# Create GBM model\n",
        "model66 = GradientBoostingClassifier()\n",
        "\n",
        "# Train GBM model\n",
        "model66.fit(X_smote_train, y_smote_train)\n",
        "\n",
        "# Evaluate the performance of the model\n",
        "y_train_pred66 = model66.predict(X_smote_train)\n",
        "\n",
        "y_test_pred66 = model66.predict(X_test)\n",
        "\n",
        "#Print accuracy\n",
        "print('Train accuracy: ', accuracy_score(y_smote_train, y_train_pred66))\n",
        "print('Test accuracy: ', accuracy_score(y_test, y_test_pred66))"
      ]
    },
    {
      "cell_type": "code",
      "execution_count": null,
      "metadata": {
        "colab": {
          "base_uri": "https://localhost:8080/"
        },
        "id": "eLyFiph5dTkC",
        "outputId": "6fb8ae99-a58f-4d61-e190-5d7d19d34f50"
      },
      "outputs": [
        {
          "output_type": "stream",
          "name": "stdout",
          "text": [
            "----------- Train classification Report -----------\n",
            "              precision    recall  f1-score   support\n",
            "\n",
            "           0       0.89      0.94      0.91     15359\n",
            "           1       0.93      0.88      0.90     15359\n",
            "           2       0.98      0.99      0.99     15359\n",
            "\n",
            "    accuracy                           0.93     46077\n",
            "   macro avg       0.93      0.93      0.93     46077\n",
            "weighted avg       0.93      0.93      0.93     46077\n",
            "\n",
            "----------- Test classification Report -----------\n",
            "              precision    recall  f1-score   support\n",
            "\n",
            "           0       0.57      0.81      0.67       754\n",
            "           1       0.95      0.87      0.91      3826\n",
            "           2       0.79      0.89      0.84       184\n",
            "\n",
            "    accuracy                           0.86      4764\n",
            "   macro avg       0.77      0.86      0.80      4764\n",
            "weighted avg       0.89      0.86      0.87      4764\n",
            "\n"
          ]
        }
      ],
      "source": [
        "print('----------- Train classification Report -----------')\n",
        "\n",
        "print(classification_report(y_smote_train, y_train_pred66))\n",
        "\n",
        "print('----------- Test classification Report -----------')\n",
        "\n",
        "print(classification_report(y_test, y_test_pred66))"
      ]
    },
    {
      "cell_type": "markdown",
      "metadata": {
        "id": "V11MsL3thcWk"
      },
      "source": [
        "## Hyperparameter Tuning"
      ]
    },
    {
      "cell_type": "code",
      "execution_count": null,
      "metadata": {
        "colab": {
          "base_uri": "https://localhost:8080/"
        },
        "id": "6PMcJbY4hfnS",
        "outputId": "c6412611-5449-4426-c8a9-bcfa7a4c2c01"
      },
      "outputs": [
        {
          "output_type": "execute_result",
          "data": {
            "text/plain": [
              "{'n_estimators': 150,\n",
              " 'min_samples_split': 3,\n",
              " 'min_samples_leaf': 20,\n",
              " 'max_features': 'sqrt',\n",
              " 'max_depth': 6,\n",
              " 'learning_rate': 0.1}"
            ]
          },
          "metadata": {},
          "execution_count": 84
        }
      ],
      "source": [
        "param_grid = {'n_estimators': [50, 100, 150, 200], \n",
        "              'learning_rate': [0.1, 0.05, 0.01], \n",
        "              'max_depth': [3, 4, 5, 6],\n",
        "              'min_samples_leaf':[10,12,15,13,20],\n",
        "              'min_samples_split':[2,3],\n",
        "              'max_features': ['sqrt', 'log2', None]}\n",
        "\n",
        "# Define grid search\n",
        "hyp_model66 = RandomizedSearchCV(estimator=model66, param_distributions=param_grid, cv=5)\n",
        "\n",
        "# Train SVM model with grid search\n",
        "best_grb = hyp_model66.fit(X_smote_train, y_smote_train)\n",
        "\n",
        "# Predict test set with best parameters\n",
        "best_grb.best_params_"
      ]
    },
    {
      "cell_type": "code",
      "execution_count": null,
      "metadata": {
        "id": "bFCFCBTGhf-f"
      },
      "outputs": [],
      "source": [
        "y_train_pred66_hyp = hyp_model66.predict(X_smote_train)\n",
        "y_test_pred66_hyp = hyp_model66.predict(X_test)"
      ]
    },
    {
      "cell_type": "code",
      "execution_count": null,
      "metadata": {
        "id": "aRsmmgsmhfub",
        "colab": {
          "base_uri": "https://localhost:8080/"
        },
        "outputId": "aecf9b58-bd29-4135-bc28-f80234b3cd04"
      },
      "outputs": [
        {
          "output_type": "stream",
          "name": "stdout",
          "text": [
            "----------- Train classification Report -----------\n",
            "              precision    recall  f1-score   support\n",
            "\n",
            "           0       0.95      0.95      0.95     15359\n",
            "           1       0.95      0.95      0.95     15359\n",
            "           2       1.00      1.00      1.00     15359\n",
            "\n",
            "    accuracy                           0.97     46077\n",
            "   macro avg       0.97      0.97      0.97     46077\n",
            "weighted avg       0.97      0.97      0.97     46077\n",
            "\n",
            "----------- Test classification Report -----------\n",
            "              precision    recall  f1-score   support\n",
            "\n",
            "           0       0.68      0.73      0.71       754\n",
            "           1       0.94      0.93      0.94      3826\n",
            "           2       0.92      0.84      0.88       184\n",
            "\n",
            "    accuracy                           0.90      4764\n",
            "   macro avg       0.85      0.83      0.84      4764\n",
            "weighted avg       0.90      0.90      0.90      4764\n",
            "\n"
          ]
        }
      ],
      "source": [
        "print('----------- Train classification Report -----------')\n",
        "\n",
        "print(classification_report(y_smote_train, y_train_pred66_hyp))\n",
        "\n",
        "print('----------- Test classification Report -----------')\n",
        "\n",
        "print(classification_report(y_test, y_test_pred66_hyp))"
      ]
    },
    {
      "cell_type": "markdown",
      "metadata": {
        "id": "gh2IK_eLgPNj"
      },
      "source": [
        "## Neural Network"
      ]
    },
    {
      "cell_type": "code",
      "execution_count": null,
      "metadata": {
        "id": "iUQlisyjOrl6"
      },
      "outputs": [],
      "source": [
        "# Convert target labels to one-hot encoded format\n",
        "y_smote_train = to_categorical(y_smote_train)\n",
        "y_smote_test = to_categorical(y_test)"
      ]
    },
    {
      "cell_type": "code",
      "execution_count": null,
      "metadata": {
        "id": "VkU2rqyRgWqH"
      },
      "outputs": [],
      "source": [
        "# Build neural network\n",
        "model77 = keras.Sequential([\n",
        "    keras.layers.Dense(64, activation='relu', input_shape=(X_smote_train.shape[1],), kernel_initializer='he_uniform'),\n",
        "    keras.layers.Dense(32, activation='relu', kernel_initializer='he_uniform'),\n",
        "    keras.layers.Dense(16, activation='relu', kernel_initializer='he_uniform'), \n",
        "    keras.layers.Dense(3, activation='softmax')\n",
        "])\n"
      ]
    },
    {
      "cell_type": "code",
      "execution_count": null,
      "metadata": {
        "colab": {
          "base_uri": "https://localhost:8080/"
        },
        "id": "S7Z57EC_gWOU",
        "outputId": "adea91f5-6d4a-4d73-bbe9-1341fa187dcd"
      },
      "outputs": [
        {
          "output_type": "stream",
          "name": "stderr",
          "text": [
            "WARNING:absl:`lr` is deprecated in Keras optimizer, please use `learning_rate` or use the legacy optimizer, e.g.,tf.keras.optimizers.legacy.Adam.\n"
          ]
        }
      ],
      "source": [
        "# Compile model\n",
        "model77.compile(optimizer=tf.keras.optimizers.Adam(lr=0.0001), loss='categorical_crossentropy', metrics=['accuracy'])\n"
      ]
    },
    {
      "cell_type": "code",
      "execution_count": null,
      "metadata": {
        "colab": {
          "base_uri": "https://localhost:8080/"
        },
        "id": "gyk4LG_ShabY",
        "outputId": "23dd4a10-a528-494e-8c51-21f7c740dbf4"
      },
      "outputs": [
        {
          "output_type": "stream",
          "name": "stdout",
          "text": [
            "Epoch 1/25\n",
            "1152/1152 [==============================] - 5s 3ms/step - loss: 19.8859 - accuracy: 0.6211 - val_loss: 5.3654 - val_accuracy: 0.6261\n",
            "Epoch 2/25\n",
            "1152/1152 [==============================] - 3s 2ms/step - loss: 4.5198 - accuracy: 0.6654 - val_loss: 1.3701 - val_accuracy: 0.8360\n",
            "Epoch 3/25\n",
            "1152/1152 [==============================] - 3s 3ms/step - loss: 3.9789 - accuracy: 0.6753 - val_loss: 3.9455 - val_accuracy: 0.6565\n",
            "Epoch 4/25\n",
            "1152/1152 [==============================] - 3s 2ms/step - loss: 3.3562 - accuracy: 0.6860 - val_loss: 3.1364 - val_accuracy: 0.7159\n",
            "Epoch 5/25\n",
            "1152/1152 [==============================] - 4s 3ms/step - loss: 2.6261 - accuracy: 0.6976 - val_loss: 1.9055 - val_accuracy: 0.7419\n",
            "Epoch 6/25\n",
            "1152/1152 [==============================] - 3s 3ms/step - loss: 2.4662 - accuracy: 0.7069 - val_loss: 0.7651 - val_accuracy: 0.9576\n",
            "Epoch 7/25\n",
            "1152/1152 [==============================] - 3s 2ms/step - loss: 2.1350 - accuracy: 0.7096 - val_loss: 2.0229 - val_accuracy: 0.7132\n",
            "Epoch 8/25\n",
            "1152/1152 [==============================] - 3s 2ms/step - loss: 2.0418 - accuracy: 0.7108 - val_loss: 0.3993 - val_accuracy: 0.9187\n",
            "Epoch 9/25\n",
            "1152/1152 [==============================] - 3s 3ms/step - loss: 1.6631 - accuracy: 0.7196 - val_loss: 0.2487 - val_accuracy: 0.9386\n",
            "Epoch 10/25\n",
            "1152/1152 [==============================] - 4s 4ms/step - loss: 1.6455 - accuracy: 0.7231 - val_loss: 1.0205 - val_accuracy: 0.8089\n",
            "Epoch 11/25\n",
            "1152/1152 [==============================] - 3s 3ms/step - loss: 1.2769 - accuracy: 0.7294 - val_loss: 2.4191 - val_accuracy: 0.5599\n",
            "Epoch 12/25\n",
            "1152/1152 [==============================] - 3s 2ms/step - loss: 1.0996 - accuracy: 0.7338 - val_loss: 0.2555 - val_accuracy: 0.8773\n",
            "Epoch 13/25\n",
            "1152/1152 [==============================] - 3s 2ms/step - loss: 0.9265 - accuracy: 0.7424 - val_loss: 1.2310 - val_accuracy: 0.6810\n",
            "Epoch 14/25\n",
            "1152/1152 [==============================] - 4s 3ms/step - loss: 0.9094 - accuracy: 0.7315 - val_loss: 0.2293 - val_accuracy: 0.8727\n",
            "Epoch 15/25\n",
            "1152/1152 [==============================] - 3s 3ms/step - loss: 0.7474 - accuracy: 0.7482 - val_loss: 4.1529 - val_accuracy: 0.4444\n",
            "Epoch 16/25\n",
            "1152/1152 [==============================] - 3s 2ms/step - loss: 0.7203 - accuracy: 0.7459 - val_loss: 0.1143 - val_accuracy: 0.9572\n",
            "Epoch 17/25\n",
            "1152/1152 [==============================] - 3s 2ms/step - loss: 0.6225 - accuracy: 0.7560 - val_loss: 0.4537 - val_accuracy: 0.8023\n",
            "Epoch 18/25\n",
            "1152/1152 [==============================] - 3s 3ms/step - loss: 0.5875 - accuracy: 0.7601 - val_loss: 1.0544 - val_accuracy: 0.7456\n",
            "Epoch 19/25\n",
            "1152/1152 [==============================] - 4s 4ms/step - loss: 0.5372 - accuracy: 0.7712 - val_loss: 0.3007 - val_accuracy: 0.8407\n",
            "Epoch 20/25\n",
            "1152/1152 [==============================] - 3s 3ms/step - loss: 0.5194 - accuracy: 0.7753 - val_loss: 0.7928 - val_accuracy: 0.7150\n",
            "Epoch 21/25\n",
            "1152/1152 [==============================] - 3s 2ms/step - loss: 0.5133 - accuracy: 0.7733 - val_loss: 0.5893 - val_accuracy: 0.7132\n",
            "Epoch 22/25\n",
            "1152/1152 [==============================] - 3s 2ms/step - loss: 0.5083 - accuracy: 0.7738 - val_loss: 0.7028 - val_accuracy: 0.6962\n",
            "Epoch 23/25\n",
            "1152/1152 [==============================] - 4s 4ms/step - loss: 0.5093 - accuracy: 0.7731 - val_loss: 0.5408 - val_accuracy: 0.7716\n",
            "Epoch 24/25\n",
            "1152/1152 [==============================] - 3s 3ms/step - loss: 0.5006 - accuracy: 0.7768 - val_loss: 0.7372 - val_accuracy: 0.6782\n",
            "Epoch 25/25\n",
            "1152/1152 [==============================] - 3s 3ms/step - loss: 0.4922 - accuracy: 0.7793 - val_loss: 0.3738 - val_accuracy: 0.8037\n"
          ]
        },
        {
          "output_type": "execute_result",
          "data": {
            "text/plain": [
              "<keras.callbacks.History at 0x7f56511a1fd0>"
            ]
          },
          "metadata": {},
          "execution_count": 90
        }
      ],
      "source": [
        "# Train model\n",
        "model77.fit(X_smote_train, y_smote_train, epochs=25, batch_size=32, validation_split=0.2)"
      ]
    },
    {
      "cell_type": "code",
      "execution_count": null,
      "metadata": {
        "colab": {
          "base_uri": "https://localhost:8080/"
        },
        "id": "zhl5BYL0ikT_",
        "outputId": "de16f540-a5a1-4932-959e-e372426a6e0d"
      },
      "outputs": [
        {
          "output_type": "stream",
          "name": "stdout",
          "text": [
            "1440/1440 [==============================] - 4s 2ms/step\n",
            "[[14282   832   245]\n",
            " [ 4807 10345   207]\n",
            " [ 1420  1649 12290]]\n",
            "149/149 [==============================] - 1s 4ms/step\n",
            "[[ 686   51   17]\n",
            " [1239 2521   66]\n",
            " [  27   25  132]]\n"
          ]
        }
      ],
      "source": [
        "trainpreds = model77.predict(X_smote_train)\n",
        "trainpreds = np.argmax(trainpreds, axis=1)\n",
        "y_smote_train_int = np.argmax(y_smote_train, axis=1)\n",
        "\n",
        "print(confusion_matrix(y_smote_train_int, trainpreds))\n",
        "\n",
        "testpreds = model77.predict(X_test)\n",
        "testpreds = np.argmax(testpreds, axis=1)\n",
        "y_smote_test_int = np.argmax(y_smote_test, axis=1)\n",
        "\n",
        "print(confusion_matrix(y_smote_test_int, testpreds))"
      ]
    },
    {
      "cell_type": "code",
      "execution_count": null,
      "metadata": {
        "colab": {
          "base_uri": "https://localhost:8080/"
        },
        "id": "hBDWJ0yxQ_Bn",
        "outputId": "52e47931-a889-4558-acfe-000dd7a7ce1f"
      },
      "outputs": [
        {
          "output_type": "stream",
          "name": "stdout",
          "text": [
            "----------- Train classification Report -----------\n",
            "              precision    recall  f1-score   support\n",
            "\n",
            "           0       0.70      0.93      0.80     15359\n",
            "           1       0.81      0.67      0.73     15359\n",
            "           2       0.96      0.80      0.87     15359\n",
            "\n",
            "    accuracy                           0.80     46077\n",
            "   macro avg       0.82      0.80      0.80     46077\n",
            "weighted avg       0.82      0.80      0.80     46077\n",
            "\n",
            "----------- Test classification Report -----------\n",
            "              precision    recall  f1-score   support\n",
            "\n",
            "           0       0.35      0.91      0.51       754\n",
            "           1       0.97      0.66      0.78      3826\n",
            "           2       0.61      0.72      0.66       184\n",
            "\n",
            "    accuracy                           0.70      4764\n",
            "   macro avg       0.65      0.76      0.65      4764\n",
            "weighted avg       0.86      0.70      0.74      4764\n",
            "\n"
          ]
        }
      ],
      "source": [
        "print('----------- Train classification Report -----------')\n",
        "\n",
        "print(classification_report(y_smote_train_int , trainpreds))\n",
        "\n",
        "print('----------- Test classification Report -----------')\n",
        "\n",
        "print(classification_report(y_smote_test_int , testpreds))"
      ]
    }
  ],
  "metadata": {
    "colab": {
      "provenance": [],
      "toc_visible": true
    },
    "kernelspec": {
      "display_name": "Python 3",
      "name": "python3"
    },
    "language_info": {
      "name": "python"
    }
  },
  "nbformat": 4,
  "nbformat_minor": 0
}